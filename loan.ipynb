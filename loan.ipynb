{
 "cells": [
  {
   "cell_type": "raw",
   "id": "c33396c0-fcaa-4822-9513-5feba2961112",
   "metadata": {},
   "source": [
    " "
   ]
  },
  {
   "cell_type": "markdown",
   "id": "d65e39f7-c92f-4c8c-8232-794debd9147a",
   "metadata": {},
   "source": [
    "# 1. Problem Statement  "
   ]
  },
  {
   "cell_type": "raw",
   "id": "d9f2cc8d-fb99-4275-a7e2-6f06059cd2cb",
   "metadata": {},
   "source": [
    "Bank >> Loan application process to automate approve or reject. \n",
    "\n"
   ]
  },
  {
   "cell_type": "markdown",
   "id": "e91255b8-8639-45f2-94b3-ce750e419998",
   "metadata": {},
   "source": [
    "# 2. Data Gathering "
   ]
  },
  {
   "cell_type": "code",
   "execution_count": 138,
   "id": "b91afe30-3a0d-4366-8513-e995a5c5be0c",
   "metadata": {},
   "outputs": [],
   "source": [
    "import numpy as np\n",
    "import pandas as pd\n",
    "import seaborn as sns\n",
    "from sklearn.preprocessing import MinMaxScaler\n",
    "import matplotlib.pyplot as plt\n"
   ]
  },
  {
   "cell_type": "code",
   "execution_count": 42,
   "id": "55719162-b3e5-4622-a996-460091f058c2",
   "metadata": {},
   "outputs": [
    {
     "data": {
      "text/plain": [
       "(67463, 35)"
      ]
     },
     "execution_count": 42,
     "metadata": {},
     "output_type": "execute_result"
    }
   ],
   "source": [
    "data1 = pd.read_csv('dataset\\loan.csv')\n",
    "data1.shape"
   ]
  },
  {
   "cell_type": "code",
   "execution_count": 43,
   "id": "93b407a6-52bb-4be8-a66d-4a7b4589a96c",
   "metadata": {},
   "outputs": [
    {
     "data": {
      "text/html": [
       "<div>\n",
       "<style scoped>\n",
       "    .dataframe tbody tr th:only-of-type {\n",
       "        vertical-align: middle;\n",
       "    }\n",
       "\n",
       "    .dataframe tbody tr th {\n",
       "        vertical-align: top;\n",
       "    }\n",
       "\n",
       "    .dataframe thead th {\n",
       "        text-align: right;\n",
       "    }\n",
       "</style>\n",
       "<table border=\"1\" class=\"dataframe\">\n",
       "  <thead>\n",
       "    <tr style=\"text-align: right;\">\n",
       "      <th></th>\n",
       "      <th>ID</th>\n",
       "      <th>Loan Amount</th>\n",
       "      <th>Funded Amount</th>\n",
       "      <th>Funded Amount Investor</th>\n",
       "      <th>Term</th>\n",
       "      <th>Batch Enrolled</th>\n",
       "      <th>Interest Rate</th>\n",
       "      <th>Grade</th>\n",
       "      <th>Sub Grade</th>\n",
       "      <th>Employment Duration</th>\n",
       "      <th>...</th>\n",
       "      <th>Recoveries</th>\n",
       "      <th>Collection Recovery Fee</th>\n",
       "      <th>Collection 12 months Medical</th>\n",
       "      <th>Application Type</th>\n",
       "      <th>Last week Pay</th>\n",
       "      <th>Accounts Delinquent</th>\n",
       "      <th>Total Collection Amount</th>\n",
       "      <th>Total Current Balance</th>\n",
       "      <th>Total Revolving Credit Limit</th>\n",
       "      <th>Loan Status</th>\n",
       "    </tr>\n",
       "  </thead>\n",
       "  <tbody>\n",
       "    <tr>\n",
       "      <th>0</th>\n",
       "      <td>65087372</td>\n",
       "      <td>10000</td>\n",
       "      <td>32236</td>\n",
       "      <td>12329.36286</td>\n",
       "      <td>59</td>\n",
       "      <td>BAT2522922</td>\n",
       "      <td>11.135007</td>\n",
       "      <td>B</td>\n",
       "      <td>C4</td>\n",
       "      <td>MORTGAGE</td>\n",
       "      <td>...</td>\n",
       "      <td>2.498291</td>\n",
       "      <td>0.793724</td>\n",
       "      <td>0</td>\n",
       "      <td>INDIVIDUAL</td>\n",
       "      <td>49</td>\n",
       "      <td>0</td>\n",
       "      <td>31</td>\n",
       "      <td>311301</td>\n",
       "      <td>6619</td>\n",
       "      <td>0</td>\n",
       "    </tr>\n",
       "    <tr>\n",
       "      <th>1</th>\n",
       "      <td>1450153</td>\n",
       "      <td>3609</td>\n",
       "      <td>11940</td>\n",
       "      <td>12191.99692</td>\n",
       "      <td>59</td>\n",
       "      <td>BAT1586599</td>\n",
       "      <td>12.237563</td>\n",
       "      <td>C</td>\n",
       "      <td>D3</td>\n",
       "      <td>RENT</td>\n",
       "      <td>...</td>\n",
       "      <td>2.377215</td>\n",
       "      <td>0.974821</td>\n",
       "      <td>0</td>\n",
       "      <td>INDIVIDUAL</td>\n",
       "      <td>109</td>\n",
       "      <td>0</td>\n",
       "      <td>53</td>\n",
       "      <td>182610</td>\n",
       "      <td>20885</td>\n",
       "      <td>0</td>\n",
       "    </tr>\n",
       "    <tr>\n",
       "      <th>2</th>\n",
       "      <td>1969101</td>\n",
       "      <td>28276</td>\n",
       "      <td>9311</td>\n",
       "      <td>21603.22455</td>\n",
       "      <td>59</td>\n",
       "      <td>BAT2136391</td>\n",
       "      <td>12.545884</td>\n",
       "      <td>F</td>\n",
       "      <td>D4</td>\n",
       "      <td>MORTGAGE</td>\n",
       "      <td>...</td>\n",
       "      <td>4.316277</td>\n",
       "      <td>1.020075</td>\n",
       "      <td>0</td>\n",
       "      <td>INDIVIDUAL</td>\n",
       "      <td>66</td>\n",
       "      <td>0</td>\n",
       "      <td>34</td>\n",
       "      <td>89801</td>\n",
       "      <td>26155</td>\n",
       "      <td>0</td>\n",
       "    </tr>\n",
       "    <tr>\n",
       "      <th>3</th>\n",
       "      <td>6651430</td>\n",
       "      <td>11170</td>\n",
       "      <td>6954</td>\n",
       "      <td>17877.15585</td>\n",
       "      <td>59</td>\n",
       "      <td>BAT2428731</td>\n",
       "      <td>16.731201</td>\n",
       "      <td>C</td>\n",
       "      <td>C3</td>\n",
       "      <td>MORTGAGE</td>\n",
       "      <td>...</td>\n",
       "      <td>0.107020</td>\n",
       "      <td>0.749971</td>\n",
       "      <td>0</td>\n",
       "      <td>INDIVIDUAL</td>\n",
       "      <td>39</td>\n",
       "      <td>0</td>\n",
       "      <td>40</td>\n",
       "      <td>9189</td>\n",
       "      <td>60214</td>\n",
       "      <td>0</td>\n",
       "    </tr>\n",
       "    <tr>\n",
       "      <th>4</th>\n",
       "      <td>14354669</td>\n",
       "      <td>16890</td>\n",
       "      <td>13226</td>\n",
       "      <td>13539.92667</td>\n",
       "      <td>59</td>\n",
       "      <td>BAT5341619</td>\n",
       "      <td>15.008300</td>\n",
       "      <td>C</td>\n",
       "      <td>D4</td>\n",
       "      <td>MORTGAGE</td>\n",
       "      <td>...</td>\n",
       "      <td>1294.818751</td>\n",
       "      <td>0.368953</td>\n",
       "      <td>0</td>\n",
       "      <td>INDIVIDUAL</td>\n",
       "      <td>18</td>\n",
       "      <td>0</td>\n",
       "      <td>430</td>\n",
       "      <td>126029</td>\n",
       "      <td>22579</td>\n",
       "      <td>0</td>\n",
       "    </tr>\n",
       "  </tbody>\n",
       "</table>\n",
       "<p>5 rows × 35 columns</p>\n",
       "</div>"
      ],
      "text/plain": [
       "         ID  Loan Amount  Funded Amount  Funded Amount Investor  Term  \\\n",
       "0  65087372        10000          32236             12329.36286    59   \n",
       "1   1450153         3609          11940             12191.99692    59   \n",
       "2   1969101        28276           9311             21603.22455    59   \n",
       "3   6651430        11170           6954             17877.15585    59   \n",
       "4  14354669        16890          13226             13539.92667    59   \n",
       "\n",
       "  Batch Enrolled  Interest Rate Grade Sub Grade Employment Duration  ...  \\\n",
       "0     BAT2522922      11.135007     B        C4            MORTGAGE  ...   \n",
       "1     BAT1586599      12.237563     C        D3                RENT  ...   \n",
       "2     BAT2136391      12.545884     F        D4            MORTGAGE  ...   \n",
       "3     BAT2428731      16.731201     C        C3            MORTGAGE  ...   \n",
       "4     BAT5341619      15.008300     C        D4            MORTGAGE  ...   \n",
       "\n",
       "    Recoveries Collection Recovery Fee Collection 12 months Medical  \\\n",
       "0     2.498291                0.793724                            0   \n",
       "1     2.377215                0.974821                            0   \n",
       "2     4.316277                1.020075                            0   \n",
       "3     0.107020                0.749971                            0   \n",
       "4  1294.818751                0.368953                            0   \n",
       "\n",
       "  Application Type  Last week Pay  Accounts Delinquent  \\\n",
       "0       INDIVIDUAL             49                    0   \n",
       "1       INDIVIDUAL            109                    0   \n",
       "2       INDIVIDUAL             66                    0   \n",
       "3       INDIVIDUAL             39                    0   \n",
       "4       INDIVIDUAL             18                    0   \n",
       "\n",
       "   Total Collection Amount  Total Current Balance  \\\n",
       "0                       31                 311301   \n",
       "1                       53                 182610   \n",
       "2                       34                  89801   \n",
       "3                       40                   9189   \n",
       "4                      430                 126029   \n",
       "\n",
       "   Total Revolving Credit Limit  Loan Status  \n",
       "0                          6619            0  \n",
       "1                         20885            0  \n",
       "2                         26155            0  \n",
       "3                         60214            0  \n",
       "4                         22579            0  \n",
       "\n",
       "[5 rows x 35 columns]"
      ]
     },
     "execution_count": 43,
     "metadata": {},
     "output_type": "execute_result"
    }
   ],
   "source": [
    "data1.head()"
   ]
  },
  {
   "cell_type": "code",
   "execution_count": 44,
   "id": "5906b081-ae25-44b2-88fb-ded62843932b",
   "metadata": {},
   "outputs": [
    {
     "data": {
      "text/plain": [
       "7"
      ]
     },
     "execution_count": 44,
     "metadata": {},
     "output_type": "execute_result"
    }
   ],
   "source": [
    "data1['Grade'].nunique()"
   ]
  },
  {
   "cell_type": "code",
   "execution_count": 45,
   "id": "6a7d0c08-196b-4e65-9bf9-0fb3ff3ca115",
   "metadata": {},
   "outputs": [
    {
     "name": "stdout",
     "output_type": "stream",
     "text": [
      "Wall time: 1.87 s\n"
     ]
    },
    {
     "data": {
      "text/plain": [
       "(128221, 55)"
      ]
     },
     "execution_count": 45,
     "metadata": {},
     "output_type": "execute_result"
    }
   ],
   "source": [
    "%time data2 = pd.read_csv('dataset\\loan1.csv')\n",
    "data2.shape"
   ]
  },
  {
   "cell_type": "raw",
   "id": "01532a98-187f-4eb8-96a6-daab7aedd090",
   "metadata": {},
   "source": [
    "POC >> proof of concept >> 50k records 45 features\n",
    "\n",
    "Final Model >> 15 lakh, 12 lakhs,  20 lakhs,  23 features\n",
    "\n",
    "We never delete any feature from our dataset "
   ]
  },
  {
   "cell_type": "code",
   "execution_count": 46,
   "id": "9b808a74-bbb1-40a5-a945-263bc6aa89e5",
   "metadata": {},
   "outputs": [],
   "source": [
    "# %time data2 = pd.read_excel('dataset\\loan3.xlsx')\n",
    "# data2.shape"
   ]
  },
  {
   "cell_type": "code",
   "execution_count": null,
   "id": "4afa9526-b3ad-40db-951e-24565483f21b",
   "metadata": {},
   "outputs": [],
   "source": []
  },
  {
   "cell_type": "code",
   "execution_count": 47,
   "id": "b8b0ba2d-6b85-4611-a03d-cf08968102a5",
   "metadata": {},
   "outputs": [
    {
     "name": "stdout",
     "output_type": "stream",
     "text": [
      "Wall time: 274 ms\n"
     ]
    },
    {
     "data": {
      "text/plain": [
       "(128835, 13)"
      ]
     },
     "execution_count": 47,
     "metadata": {},
     "output_type": "execute_result"
    }
   ],
   "source": [
    "%time data = pd.read_csv(r'dataset\\final_loan.csv')\n",
    "data.shape"
   ]
  },
  {
   "cell_type": "code",
   "execution_count": 48,
   "id": "14245d27-572a-4a15-b133-975cd646e7f9",
   "metadata": {},
   "outputs": [
    {
     "data": {
      "text/html": [
       "<div>\n",
       "<style scoped>\n",
       "    .dataframe tbody tr th:only-of-type {\n",
       "        vertical-align: middle;\n",
       "    }\n",
       "\n",
       "    .dataframe tbody tr th {\n",
       "        vertical-align: top;\n",
       "    }\n",
       "\n",
       "    .dataframe thead th {\n",
       "        text-align: right;\n",
       "    }\n",
       "</style>\n",
       "<table border=\"1\" class=\"dataframe\">\n",
       "  <thead>\n",
       "    <tr style=\"text-align: right;\">\n",
       "      <th></th>\n",
       "      <th>Loan_ID</th>\n",
       "      <th>Gender</th>\n",
       "      <th>Married</th>\n",
       "      <th>Dependents</th>\n",
       "      <th>Education</th>\n",
       "      <th>Self_Employed</th>\n",
       "      <th>ApplicantIncome</th>\n",
       "      <th>CoapplicantIncome</th>\n",
       "      <th>LoanAmount</th>\n",
       "      <th>Loan_Amount_Term</th>\n",
       "      <th>Credit_History</th>\n",
       "      <th>Property_Area</th>\n",
       "      <th>Loan_Status</th>\n",
       "    </tr>\n",
       "  </thead>\n",
       "  <tbody>\n",
       "    <tr>\n",
       "      <th>0</th>\n",
       "      <td>LP001002</td>\n",
       "      <td>Male</td>\n",
       "      <td>No</td>\n",
       "      <td>0</td>\n",
       "      <td>Graduate</td>\n",
       "      <td>No</td>\n",
       "      <td>5849</td>\n",
       "      <td>0.0</td>\n",
       "      <td>NaN</td>\n",
       "      <td>360.0</td>\n",
       "      <td>1.0</td>\n",
       "      <td>Urban</td>\n",
       "      <td>Y</td>\n",
       "    </tr>\n",
       "    <tr>\n",
       "      <th>1</th>\n",
       "      <td>LP001003</td>\n",
       "      <td>Male</td>\n",
       "      <td>Yes</td>\n",
       "      <td>1</td>\n",
       "      <td>Graduate</td>\n",
       "      <td>No</td>\n",
       "      <td>4583</td>\n",
       "      <td>1508.0</td>\n",
       "      <td>128.0</td>\n",
       "      <td>360.0</td>\n",
       "      <td>1.0</td>\n",
       "      <td>Rural</td>\n",
       "      <td>N</td>\n",
       "    </tr>\n",
       "    <tr>\n",
       "      <th>2</th>\n",
       "      <td>LP001005</td>\n",
       "      <td>Male</td>\n",
       "      <td>Yes</td>\n",
       "      <td>0</td>\n",
       "      <td>Graduate</td>\n",
       "      <td>Yes</td>\n",
       "      <td>3000</td>\n",
       "      <td>0.0</td>\n",
       "      <td>66.0</td>\n",
       "      <td>360.0</td>\n",
       "      <td>1.0</td>\n",
       "      <td>Urban</td>\n",
       "      <td>Y</td>\n",
       "    </tr>\n",
       "    <tr>\n",
       "      <th>3</th>\n",
       "      <td>LP001006</td>\n",
       "      <td>Male</td>\n",
       "      <td>Yes</td>\n",
       "      <td>0</td>\n",
       "      <td>Not Graduate</td>\n",
       "      <td>No</td>\n",
       "      <td>2583</td>\n",
       "      <td>2358.0</td>\n",
       "      <td>120.0</td>\n",
       "      <td>360.0</td>\n",
       "      <td>1.0</td>\n",
       "      <td>Urban</td>\n",
       "      <td>Y</td>\n",
       "    </tr>\n",
       "    <tr>\n",
       "      <th>4</th>\n",
       "      <td>LP001008</td>\n",
       "      <td>Male</td>\n",
       "      <td>No</td>\n",
       "      <td>0</td>\n",
       "      <td>Graduate</td>\n",
       "      <td>No</td>\n",
       "      <td>6000</td>\n",
       "      <td>0.0</td>\n",
       "      <td>141.0</td>\n",
       "      <td>360.0</td>\n",
       "      <td>1.0</td>\n",
       "      <td>Urban</td>\n",
       "      <td>Y</td>\n",
       "    </tr>\n",
       "  </tbody>\n",
       "</table>\n",
       "</div>"
      ],
      "text/plain": [
       "    Loan_ID Gender Married Dependents     Education Self_Employed  \\\n",
       "0  LP001002   Male      No          0      Graduate            No   \n",
       "1  LP001003   Male     Yes          1      Graduate            No   \n",
       "2  LP001005   Male     Yes          0      Graduate           Yes   \n",
       "3  LP001006   Male     Yes          0  Not Graduate            No   \n",
       "4  LP001008   Male      No          0      Graduate            No   \n",
       "\n",
       "   ApplicantIncome  CoapplicantIncome  LoanAmount  Loan_Amount_Term  \\\n",
       "0             5849                0.0         NaN             360.0   \n",
       "1             4583             1508.0       128.0             360.0   \n",
       "2             3000                0.0        66.0             360.0   \n",
       "3             2583             2358.0       120.0             360.0   \n",
       "4             6000                0.0       141.0             360.0   \n",
       "\n",
       "   Credit_History Property_Area Loan_Status  \n",
       "0             1.0         Urban           Y  \n",
       "1             1.0         Rural           N  \n",
       "2             1.0         Urban           Y  \n",
       "3             1.0         Urban           Y  \n",
       "4             1.0         Urban           Y  "
      ]
     },
     "execution_count": 48,
     "metadata": {},
     "output_type": "execute_result"
    }
   ],
   "source": [
    "data.head()"
   ]
  },
  {
   "cell_type": "markdown",
   "id": "caade635-358f-4d57-8b9e-903c4c13701d",
   "metadata": {},
   "source": [
    "# 3. EDA"
   ]
  },
  {
   "cell_type": "code",
   "execution_count": 49,
   "id": "d64b8c1e-5158-4b12-a631-b6e565167dec",
   "metadata": {},
   "outputs": [
    {
     "name": "stdout",
     "output_type": "stream",
     "text": [
      "<class 'pandas.core.frame.DataFrame'>\n",
      "RangeIndex: 128835 entries, 0 to 128834\n",
      "Data columns (total 13 columns):\n",
      " #   Column             Non-Null Count   Dtype  \n",
      "---  ------             --------------   -----  \n",
      " 0   Loan_ID            128835 non-null  object \n",
      " 1   Gender             126108 non-null  object \n",
      " 2   Married            128205 non-null  object \n",
      " 3   Dependents         125688 non-null  object \n",
      " 4   Education          128835 non-null  object \n",
      " 5   Self_Employed      122120 non-null  object \n",
      " 6   ApplicantIncome    128835 non-null  int64  \n",
      " 7   CoapplicantIncome  128835 non-null  float64\n",
      " 8   LoanAmount         124219 non-null  float64\n",
      " 9   Loan_Amount_Term   125895 non-null  float64\n",
      " 10  Credit_History     118342 non-null  float64\n",
      " 11  Property_Area      128835 non-null  object \n",
      " 12  Loan_Status        128835 non-null  object \n",
      "dtypes: float64(4), int64(1), object(8)\n",
      "memory usage: 12.8+ MB\n"
     ]
    }
   ],
   "source": [
    "data.info()"
   ]
  },
  {
   "cell_type": "code",
   "execution_count": 50,
   "id": "37af0a44-1e2c-4889-bc37-00cf84e74b45",
   "metadata": {},
   "outputs": [
    {
     "data": {
      "text/html": [
       "<div>\n",
       "<style scoped>\n",
       "    .dataframe tbody tr th:only-of-type {\n",
       "        vertical-align: middle;\n",
       "    }\n",
       "\n",
       "    .dataframe tbody tr th {\n",
       "        vertical-align: top;\n",
       "    }\n",
       "\n",
       "    .dataframe thead th {\n",
       "        text-align: right;\n",
       "    }\n",
       "</style>\n",
       "<table border=\"1\" class=\"dataframe\">\n",
       "  <thead>\n",
       "    <tr style=\"text-align: right;\">\n",
       "      <th></th>\n",
       "      <th>ApplicantIncome</th>\n",
       "      <th>CoapplicantIncome</th>\n",
       "      <th>LoanAmount</th>\n",
       "      <th>Loan_Amount_Term</th>\n",
       "      <th>Credit_History</th>\n",
       "    </tr>\n",
       "  </thead>\n",
       "  <tbody>\n",
       "    <tr>\n",
       "      <th>count</th>\n",
       "      <td>128835.000000</td>\n",
       "      <td>128835.000000</td>\n",
       "      <td>124219.000000</td>\n",
       "      <td>125895.000000</td>\n",
       "      <td>118342.000000</td>\n",
       "    </tr>\n",
       "    <tr>\n",
       "      <th>mean</th>\n",
       "      <td>5403.796142</td>\n",
       "      <td>1620.920792</td>\n",
       "      <td>146.405880</td>\n",
       "      <td>342.003860</td>\n",
       "      <td>0.842212</td>\n",
       "    </tr>\n",
       "    <tr>\n",
       "      <th>std</th>\n",
       "      <td>6105.683731</td>\n",
       "      <td>2921.223661</td>\n",
       "      <td>85.506229</td>\n",
       "      <td>65.060513</td>\n",
       "      <td>0.364544</td>\n",
       "    </tr>\n",
       "    <tr>\n",
       "      <th>min</th>\n",
       "      <td>150.000000</td>\n",
       "      <td>0.000000</td>\n",
       "      <td>9.000000</td>\n",
       "      <td>12.000000</td>\n",
       "      <td>0.000000</td>\n",
       "    </tr>\n",
       "    <tr>\n",
       "      <th>25%</th>\n",
       "      <td>2876.000000</td>\n",
       "      <td>0.000000</td>\n",
       "      <td>100.000000</td>\n",
       "      <td>360.000000</td>\n",
       "      <td>1.000000</td>\n",
       "    </tr>\n",
       "    <tr>\n",
       "      <th>50%</th>\n",
       "      <td>3813.000000</td>\n",
       "      <td>1167.000000</td>\n",
       "      <td>128.000000</td>\n",
       "      <td>360.000000</td>\n",
       "      <td>1.000000</td>\n",
       "    </tr>\n",
       "    <tr>\n",
       "      <th>75%</th>\n",
       "      <td>5800.000000</td>\n",
       "      <td>2302.000000</td>\n",
       "      <td>168.000000</td>\n",
       "      <td>360.000000</td>\n",
       "      <td>1.000000</td>\n",
       "    </tr>\n",
       "    <tr>\n",
       "      <th>max</th>\n",
       "      <td>81000.000000</td>\n",
       "      <td>41667.000000</td>\n",
       "      <td>700.000000</td>\n",
       "      <td>480.000000</td>\n",
       "      <td>1.000000</td>\n",
       "    </tr>\n",
       "  </tbody>\n",
       "</table>\n",
       "</div>"
      ],
      "text/plain": [
       "       ApplicantIncome  CoapplicantIncome     LoanAmount  Loan_Amount_Term  \\\n",
       "count    128835.000000      128835.000000  124219.000000     125895.000000   \n",
       "mean       5403.796142        1620.920792     146.405880        342.003860   \n",
       "std        6105.683731        2921.223661      85.506229         65.060513   \n",
       "min         150.000000           0.000000       9.000000         12.000000   \n",
       "25%        2876.000000           0.000000     100.000000        360.000000   \n",
       "50%        3813.000000        1167.000000     128.000000        360.000000   \n",
       "75%        5800.000000        2302.000000     168.000000        360.000000   \n",
       "max       81000.000000       41667.000000     700.000000        480.000000   \n",
       "\n",
       "       Credit_History  \n",
       "count   118342.000000  \n",
       "mean         0.842212  \n",
       "std          0.364544  \n",
       "min          0.000000  \n",
       "25%          1.000000  \n",
       "50%          1.000000  \n",
       "75%          1.000000  \n",
       "max          1.000000  "
      ]
     },
     "execution_count": 50,
     "metadata": {},
     "output_type": "execute_result"
    }
   ],
   "source": [
    "data.describe()"
   ]
  },
  {
   "cell_type": "code",
   "execution_count": 51,
   "id": "4a035f3d-e185-48bd-80a5-4f7921531a1b",
   "metadata": {},
   "outputs": [
    {
     "data": {
      "text/html": [
       "<div>\n",
       "<style scoped>\n",
       "    .dataframe tbody tr th:only-of-type {\n",
       "        vertical-align: middle;\n",
       "    }\n",
       "\n",
       "    .dataframe tbody tr th {\n",
       "        vertical-align: top;\n",
       "    }\n",
       "\n",
       "    .dataframe thead th {\n",
       "        text-align: right;\n",
       "    }\n",
       "</style>\n",
       "<table border=\"1\" class=\"dataframe\">\n",
       "  <thead>\n",
       "    <tr style=\"text-align: right;\">\n",
       "      <th></th>\n",
       "      <th>Loan_ID</th>\n",
       "      <th>Gender</th>\n",
       "      <th>Married</th>\n",
       "      <th>Dependents</th>\n",
       "      <th>Education</th>\n",
       "      <th>Self_Employed</th>\n",
       "      <th>ApplicantIncome</th>\n",
       "      <th>CoapplicantIncome</th>\n",
       "      <th>LoanAmount</th>\n",
       "      <th>Loan_Amount_Term</th>\n",
       "      <th>Credit_History</th>\n",
       "      <th>Property_Area</th>\n",
       "      <th>Loan_Status</th>\n",
       "    </tr>\n",
       "  </thead>\n",
       "  <tbody>\n",
       "    <tr>\n",
       "      <th>count</th>\n",
       "      <td>128835</td>\n",
       "      <td>126108</td>\n",
       "      <td>128205</td>\n",
       "      <td>125688</td>\n",
       "      <td>128835</td>\n",
       "      <td>122120</td>\n",
       "      <td>128835.000000</td>\n",
       "      <td>128835.000000</td>\n",
       "      <td>124219.000000</td>\n",
       "      <td>125895.000000</td>\n",
       "      <td>118342.000000</td>\n",
       "      <td>128835</td>\n",
       "      <td>128835</td>\n",
       "    </tr>\n",
       "    <tr>\n",
       "      <th>unique</th>\n",
       "      <td>128835</td>\n",
       "      <td>2</td>\n",
       "      <td>2</td>\n",
       "      <td>4</td>\n",
       "      <td>2</td>\n",
       "      <td>2</td>\n",
       "      <td>NaN</td>\n",
       "      <td>NaN</td>\n",
       "      <td>NaN</td>\n",
       "      <td>NaN</td>\n",
       "      <td>NaN</td>\n",
       "      <td>3</td>\n",
       "      <td>2</td>\n",
       "    </tr>\n",
       "    <tr>\n",
       "      <th>top</th>\n",
       "      <td>LP001002</td>\n",
       "      <td>Male</td>\n",
       "      <td>Yes</td>\n",
       "      <td>0</td>\n",
       "      <td>Graduate</td>\n",
       "      <td>No</td>\n",
       "      <td>NaN</td>\n",
       "      <td>NaN</td>\n",
       "      <td>NaN</td>\n",
       "      <td>NaN</td>\n",
       "      <td>NaN</td>\n",
       "      <td>Semiurban</td>\n",
       "      <td>Y</td>\n",
       "    </tr>\n",
       "    <tr>\n",
       "      <th>freq</th>\n",
       "      <td>1</td>\n",
       "      <td>102607</td>\n",
       "      <td>83510</td>\n",
       "      <td>72399</td>\n",
       "      <td>100720</td>\n",
       "      <td>104915</td>\n",
       "      <td>NaN</td>\n",
       "      <td>NaN</td>\n",
       "      <td>NaN</td>\n",
       "      <td>NaN</td>\n",
       "      <td>NaN</td>\n",
       "      <td>48888</td>\n",
       "      <td>88550</td>\n",
       "    </tr>\n",
       "    <tr>\n",
       "      <th>mean</th>\n",
       "      <td>NaN</td>\n",
       "      <td>NaN</td>\n",
       "      <td>NaN</td>\n",
       "      <td>NaN</td>\n",
       "      <td>NaN</td>\n",
       "      <td>NaN</td>\n",
       "      <td>5403.796142</td>\n",
       "      <td>1620.920792</td>\n",
       "      <td>146.405880</td>\n",
       "      <td>342.003860</td>\n",
       "      <td>0.842212</td>\n",
       "      <td>NaN</td>\n",
       "      <td>NaN</td>\n",
       "    </tr>\n",
       "    <tr>\n",
       "      <th>std</th>\n",
       "      <td>NaN</td>\n",
       "      <td>NaN</td>\n",
       "      <td>NaN</td>\n",
       "      <td>NaN</td>\n",
       "      <td>NaN</td>\n",
       "      <td>NaN</td>\n",
       "      <td>6105.683731</td>\n",
       "      <td>2921.223661</td>\n",
       "      <td>85.506229</td>\n",
       "      <td>65.060513</td>\n",
       "      <td>0.364544</td>\n",
       "      <td>NaN</td>\n",
       "      <td>NaN</td>\n",
       "    </tr>\n",
       "    <tr>\n",
       "      <th>min</th>\n",
       "      <td>NaN</td>\n",
       "      <td>NaN</td>\n",
       "      <td>NaN</td>\n",
       "      <td>NaN</td>\n",
       "      <td>NaN</td>\n",
       "      <td>NaN</td>\n",
       "      <td>150.000000</td>\n",
       "      <td>0.000000</td>\n",
       "      <td>9.000000</td>\n",
       "      <td>12.000000</td>\n",
       "      <td>0.000000</td>\n",
       "      <td>NaN</td>\n",
       "      <td>NaN</td>\n",
       "    </tr>\n",
       "    <tr>\n",
       "      <th>25%</th>\n",
       "      <td>NaN</td>\n",
       "      <td>NaN</td>\n",
       "      <td>NaN</td>\n",
       "      <td>NaN</td>\n",
       "      <td>NaN</td>\n",
       "      <td>NaN</td>\n",
       "      <td>2876.000000</td>\n",
       "      <td>0.000000</td>\n",
       "      <td>100.000000</td>\n",
       "      <td>360.000000</td>\n",
       "      <td>1.000000</td>\n",
       "      <td>NaN</td>\n",
       "      <td>NaN</td>\n",
       "    </tr>\n",
       "    <tr>\n",
       "      <th>50%</th>\n",
       "      <td>NaN</td>\n",
       "      <td>NaN</td>\n",
       "      <td>NaN</td>\n",
       "      <td>NaN</td>\n",
       "      <td>NaN</td>\n",
       "      <td>NaN</td>\n",
       "      <td>3813.000000</td>\n",
       "      <td>1167.000000</td>\n",
       "      <td>128.000000</td>\n",
       "      <td>360.000000</td>\n",
       "      <td>1.000000</td>\n",
       "      <td>NaN</td>\n",
       "      <td>NaN</td>\n",
       "    </tr>\n",
       "    <tr>\n",
       "      <th>75%</th>\n",
       "      <td>NaN</td>\n",
       "      <td>NaN</td>\n",
       "      <td>NaN</td>\n",
       "      <td>NaN</td>\n",
       "      <td>NaN</td>\n",
       "      <td>NaN</td>\n",
       "      <td>5800.000000</td>\n",
       "      <td>2302.000000</td>\n",
       "      <td>168.000000</td>\n",
       "      <td>360.000000</td>\n",
       "      <td>1.000000</td>\n",
       "      <td>NaN</td>\n",
       "      <td>NaN</td>\n",
       "    </tr>\n",
       "    <tr>\n",
       "      <th>max</th>\n",
       "      <td>NaN</td>\n",
       "      <td>NaN</td>\n",
       "      <td>NaN</td>\n",
       "      <td>NaN</td>\n",
       "      <td>NaN</td>\n",
       "      <td>NaN</td>\n",
       "      <td>81000.000000</td>\n",
       "      <td>41667.000000</td>\n",
       "      <td>700.000000</td>\n",
       "      <td>480.000000</td>\n",
       "      <td>1.000000</td>\n",
       "      <td>NaN</td>\n",
       "      <td>NaN</td>\n",
       "    </tr>\n",
       "  </tbody>\n",
       "</table>\n",
       "</div>"
      ],
      "text/plain": [
       "         Loan_ID  Gender Married Dependents Education Self_Employed  \\\n",
       "count     128835  126108  128205     125688    128835        122120   \n",
       "unique    128835       2       2          4         2             2   \n",
       "top     LP001002    Male     Yes          0  Graduate            No   \n",
       "freq           1  102607   83510      72399    100720        104915   \n",
       "mean         NaN     NaN     NaN        NaN       NaN           NaN   \n",
       "std          NaN     NaN     NaN        NaN       NaN           NaN   \n",
       "min          NaN     NaN     NaN        NaN       NaN           NaN   \n",
       "25%          NaN     NaN     NaN        NaN       NaN           NaN   \n",
       "50%          NaN     NaN     NaN        NaN       NaN           NaN   \n",
       "75%          NaN     NaN     NaN        NaN       NaN           NaN   \n",
       "max          NaN     NaN     NaN        NaN       NaN           NaN   \n",
       "\n",
       "        ApplicantIncome  CoapplicantIncome     LoanAmount  Loan_Amount_Term  \\\n",
       "count     128835.000000      128835.000000  124219.000000     125895.000000   \n",
       "unique              NaN                NaN            NaN               NaN   \n",
       "top                 NaN                NaN            NaN               NaN   \n",
       "freq                NaN                NaN            NaN               NaN   \n",
       "mean        5403.796142        1620.920792     146.405880        342.003860   \n",
       "std         6105.683731        2921.223661      85.506229         65.060513   \n",
       "min          150.000000           0.000000       9.000000         12.000000   \n",
       "25%         2876.000000           0.000000     100.000000        360.000000   \n",
       "50%         3813.000000        1167.000000     128.000000        360.000000   \n",
       "75%         5800.000000        2302.000000     168.000000        360.000000   \n",
       "max        81000.000000       41667.000000     700.000000        480.000000   \n",
       "\n",
       "        Credit_History Property_Area Loan_Status  \n",
       "count    118342.000000        128835      128835  \n",
       "unique             NaN             3           2  \n",
       "top                NaN     Semiurban           Y  \n",
       "freq               NaN         48888       88550  \n",
       "mean          0.842212           NaN         NaN  \n",
       "std           0.364544           NaN         NaN  \n",
       "min           0.000000           NaN         NaN  \n",
       "25%           1.000000           NaN         NaN  \n",
       "50%           1.000000           NaN         NaN  \n",
       "75%           1.000000           NaN         NaN  \n",
       "max           1.000000           NaN         NaN  "
      ]
     },
     "execution_count": 51,
     "metadata": {},
     "output_type": "execute_result"
    }
   ],
   "source": [
    "data.describe(include='all')"
   ]
  },
  {
   "cell_type": "code",
   "execution_count": 52,
   "id": "dbe4b5d1-84f7-4ba1-aac8-0b960a1ff9f8",
   "metadata": {},
   "outputs": [
    {
     "data": {
      "text/html": [
       "<div>\n",
       "<style scoped>\n",
       "    .dataframe tbody tr th:only-of-type {\n",
       "        vertical-align: middle;\n",
       "    }\n",
       "\n",
       "    .dataframe tbody tr th {\n",
       "        vertical-align: top;\n",
       "    }\n",
       "\n",
       "    .dataframe thead th {\n",
       "        text-align: right;\n",
       "    }\n",
       "</style>\n",
       "<table border=\"1\" class=\"dataframe\">\n",
       "  <thead>\n",
       "    <tr style=\"text-align: right;\">\n",
       "      <th></th>\n",
       "      <th>ApplicantIncome</th>\n",
       "      <th>CoapplicantIncome</th>\n",
       "      <th>LoanAmount</th>\n",
       "      <th>Loan_Amount_Term</th>\n",
       "      <th>Credit_History</th>\n",
       "    </tr>\n",
       "  </thead>\n",
       "  <tbody>\n",
       "    <tr>\n",
       "      <th>ApplicantIncome</th>\n",
       "      <td>1.000000</td>\n",
       "      <td>-0.116562</td>\n",
       "      <td>0.570964</td>\n",
       "      <td>-0.045409</td>\n",
       "      <td>-0.014793</td>\n",
       "    </tr>\n",
       "    <tr>\n",
       "      <th>CoapplicantIncome</th>\n",
       "      <td>-0.116562</td>\n",
       "      <td>1.000000</td>\n",
       "      <td>0.188703</td>\n",
       "      <td>-0.059663</td>\n",
       "      <td>-0.002135</td>\n",
       "    </tr>\n",
       "    <tr>\n",
       "      <th>LoanAmount</th>\n",
       "      <td>0.570964</td>\n",
       "      <td>0.188703</td>\n",
       "      <td>1.000000</td>\n",
       "      <td>0.039417</td>\n",
       "      <td>-0.008522</td>\n",
       "    </tr>\n",
       "    <tr>\n",
       "      <th>Loan_Amount_Term</th>\n",
       "      <td>-0.045409</td>\n",
       "      <td>-0.059663</td>\n",
       "      <td>0.039417</td>\n",
       "      <td>1.000000</td>\n",
       "      <td>0.001543</td>\n",
       "    </tr>\n",
       "    <tr>\n",
       "      <th>Credit_History</th>\n",
       "      <td>-0.014793</td>\n",
       "      <td>-0.002135</td>\n",
       "      <td>-0.008522</td>\n",
       "      <td>0.001543</td>\n",
       "      <td>1.000000</td>\n",
       "    </tr>\n",
       "  </tbody>\n",
       "</table>\n",
       "</div>"
      ],
      "text/plain": [
       "                   ApplicantIncome  CoapplicantIncome  LoanAmount  \\\n",
       "ApplicantIncome           1.000000          -0.116562    0.570964   \n",
       "CoapplicantIncome        -0.116562           1.000000    0.188703   \n",
       "LoanAmount                0.570964           0.188703    1.000000   \n",
       "Loan_Amount_Term         -0.045409          -0.059663    0.039417   \n",
       "Credit_History           -0.014793          -0.002135   -0.008522   \n",
       "\n",
       "                   Loan_Amount_Term  Credit_History  \n",
       "ApplicantIncome           -0.045409       -0.014793  \n",
       "CoapplicantIncome         -0.059663       -0.002135  \n",
       "LoanAmount                 0.039417       -0.008522  \n",
       "Loan_Amount_Term           1.000000        0.001543  \n",
       "Credit_History             0.001543        1.000000  "
      ]
     },
     "execution_count": 52,
     "metadata": {},
     "output_type": "execute_result"
    }
   ],
   "source": [
    "data.corr()"
   ]
  },
  {
   "cell_type": "code",
   "execution_count": 53,
   "id": "2be467d4-dc16-4554-97f7-aa1bd1d18907",
   "metadata": {},
   "outputs": [
    {
     "data": {
      "text/plain": [
       "<AxesSubplot:>"
      ]
     },
     "execution_count": 53,
     "metadata": {},
     "output_type": "execute_result"
    },
    {
     "data": {
      "image/png": "[encoded data removed]",
      "text/plain": [
       "<Figure size 432x288 with 2 Axes>"
      ]
     },
     "metadata": {
      "needs_background": "light"
     },
     "output_type": "display_data"
    }
   ],
   "source": [
    "sns.heatmap(data.corr(),annot=True)"
   ]
  },
  {
   "cell_type": "code",
   "execution_count": null,
   "id": "061d3a58-3099-4061-8339-a38764c959a5",
   "metadata": {},
   "outputs": [],
   "source": []
  },
  {
   "cell_type": "code",
   "execution_count": null,
   "id": "ed80dbea-3b44-4324-9221-82af8d588166",
   "metadata": {},
   "outputs": [],
   "source": []
  },
  {
   "cell_type": "code",
   "execution_count": 54,
   "id": "8d6f6512-1df3-4dec-be8e-f19f77218aa1",
   "metadata": {},
   "outputs": [
    {
     "name": "stderr",
     "output_type": "stream",
     "text": [
      "C:\\Users\\Shridhar\\AppData\\Local\\Programs\\Python\\Python39\\lib\\site-packages\\seaborn\\_decorators.py:36: FutureWarning: Pass the following variable as a keyword arg: x. From version 0.12, the only valid positional argument will be `data`, and passing other arguments without an explicit keyword will result in an error or misinterpretation.\n",
      "  warnings.warn(\n"
     ]
    },
    {
     "data": {
      "text/plain": [
       "<AxesSubplot:xlabel='ApplicantIncome'>"
      ]
     },
     "execution_count": 54,
     "metadata": {},
     "output_type": "execute_result"
    },
    {
     "data": {
      "image/png": "[encoded data removed]",
      "text/plain": [
       "<Figure size 432x288 with 1 Axes>"
      ]
     },
     "metadata": {
      "needs_background": "light"
     },
     "output_type": "display_data"
    }
   ],
   "source": [
    "# Outliers\n",
    "\n",
    "sns.boxplot(data['ApplicantIncome'])"
   ]
  },
  {
   "cell_type": "code",
   "execution_count": 55,
   "id": "ea7c9cbf-c482-4bb1-b6ea-5306d551d20c",
   "metadata": {},
   "outputs": [
    {
     "data": {
      "text/plain": [
       "<AxesSubplot:>"
      ]
     },
     "execution_count": 55,
     "metadata": {},
     "output_type": "execute_result"
    },
    {
     "data": {
      "image/png": "[encoded data removed]",
      "text/plain": [
       "<Figure size 432x288 with 1 Axes>"
      ]
     },
     "metadata": {
      "needs_background": "light"
     },
     "output_type": "display_data"
    }
   ],
   "source": [
    "data['ApplicantIncome'].hist(bins=10)"
   ]
  },
  {
   "cell_type": "code",
   "execution_count": 56,
   "id": "0e193d6b-0f0b-4e37-b0c8-eeb4178ff5a2",
   "metadata": {},
   "outputs": [
    {
     "data": {
      "text/plain": [
       "<seaborn.axisgrid.FacetGrid at 0x1e8563448b0>"
      ]
     },
     "execution_count": 56,
     "metadata": {},
     "output_type": "execute_result"
    },
    {
     "data": {
      "image/png": "[encoded data removed]",
      "text/plain": [
       "<Figure size 360x360 with 1 Axes>"
      ]
     },
     "metadata": {
      "needs_background": "light"
     },
     "output_type": "display_data"
    }
   ],
   "source": [
    "sns.displot(data['ApplicantIncome'],kde=True)"
   ]
  },
  {
   "cell_type": "markdown",
   "id": "cf7b00f5-7b7b-48cf-a709-d7aabf73611b",
   "metadata": {},
   "source": [
    "# 3 Feature Engg"
   ]
  },
  {
   "cell_type": "code",
   "execution_count": 57,
   "id": "f565800f-64f1-4f84-9b40-5d1271d30aad",
   "metadata": {},
   "outputs": [
    {
     "data": {
      "text/plain": [
       "Loan_ID              0.000000\n",
       "Gender               2.116661\n",
       "Married              0.488998\n",
       "Dependents           2.442659\n",
       "Education            0.000000\n",
       "Self_Employed        5.212093\n",
       "ApplicantIncome      0.000000\n",
       "CoapplicantIncome    0.000000\n",
       "LoanAmount           3.582877\n",
       "Loan_Amount_Term     2.281989\n",
       "Credit_History       8.144526\n",
       "Property_Area        0.000000\n",
       "Loan_Status          0.000000\n",
       "dtype: float64"
      ]
     },
     "execution_count": 57,
     "metadata": {},
     "output_type": "execute_result"
    }
   ],
   "source": [
    "data.isna().sum()/ data.shape[0] * 100"
   ]
  },
  {
   "cell_type": "code",
   "execution_count": null,
   "id": "7717bc61-425d-4412-8df4-a1bc1ff951f8",
   "metadata": {},
   "outputs": [],
   "source": []
  },
  {
   "cell_type": "code",
   "execution_count": null,
   "id": "2dd78dc2-e91f-4a70-a40d-374215a4b9e4",
   "metadata": {},
   "outputs": [],
   "source": []
  },
  {
   "cell_type": "code",
   "execution_count": 58,
   "id": "dec87285-7a87-4f4f-8271-e40d30475ee9",
   "metadata": {},
   "outputs": [],
   "source": [
    "data['Gender'].fillna(data['Gender'].mode()[0],inplace=True)\n",
    "data['Married'].fillna(data['Married'].mode()[0],inplace=True)\n",
    "data['Dependents'].fillna(data['Dependents'].mode()[0],inplace=True)\n",
    "data['Self_Employed'].fillna(data['Self_Employed'].mode()[0],inplace=True)\n",
    "data['LoanAmount'].fillna(data['LoanAmount'].median(),inplace=True)\n",
    "data['Loan_Amount_Term'].fillna(data['Loan_Amount_Term'].median(),inplace=True)\n",
    "data['Credit_History'].fillna(data['Credit_History'].mode()[0],inplace=True)\n"
   ]
  },
  {
   "cell_type": "code",
   "execution_count": null,
   "id": "f4f27962-d880-4124-9e65-98c8d6dc3c77",
   "metadata": {},
   "outputs": [],
   "source": []
  },
  {
   "cell_type": "code",
   "execution_count": null,
   "id": "d52ce7d7-11b9-4963-800b-f0e0f4fea26e",
   "metadata": {},
   "outputs": [],
   "source": []
  },
  {
   "cell_type": "code",
   "execution_count": null,
   "id": "212924bd-b141-43c9-b01b-c75b5ebf743e",
   "metadata": {},
   "outputs": [],
   "source": []
  },
  {
   "cell_type": "code",
   "execution_count": 59,
   "id": "4f1e5d4c-ec56-4601-ae1f-242092becda9",
   "metadata": {},
   "outputs": [
    {
     "data": {
      "text/html": [
       "<div>\n",
       "<style scoped>\n",
       "    .dataframe tbody tr th:only-of-type {\n",
       "        vertical-align: middle;\n",
       "    }\n",
       "\n",
       "    .dataframe tbody tr th {\n",
       "        vertical-align: top;\n",
       "    }\n",
       "\n",
       "    .dataframe thead th {\n",
       "        text-align: right;\n",
       "    }\n",
       "</style>\n",
       "<table border=\"1\" class=\"dataframe\">\n",
       "  <thead>\n",
       "    <tr style=\"text-align: right;\">\n",
       "      <th></th>\n",
       "      <th>Loan_ID</th>\n",
       "      <th>Gender</th>\n",
       "      <th>Married</th>\n",
       "      <th>Dependents</th>\n",
       "      <th>Education</th>\n",
       "      <th>Self_Employed</th>\n",
       "      <th>ApplicantIncome</th>\n",
       "      <th>CoapplicantIncome</th>\n",
       "      <th>LoanAmount</th>\n",
       "      <th>Loan_Amount_Term</th>\n",
       "      <th>Credit_History</th>\n",
       "      <th>Property_Area</th>\n",
       "      <th>Loan_Status</th>\n",
       "    </tr>\n",
       "  </thead>\n",
       "  <tbody>\n",
       "    <tr>\n",
       "      <th>count</th>\n",
       "      <td>128835</td>\n",
       "      <td>128835</td>\n",
       "      <td>128835</td>\n",
       "      <td>128835</td>\n",
       "      <td>128835</td>\n",
       "      <td>128835</td>\n",
       "      <td>128835.000000</td>\n",
       "      <td>128835.000000</td>\n",
       "      <td>128835.000000</td>\n",
       "      <td>128835.000000</td>\n",
       "      <td>128835.000000</td>\n",
       "      <td>128835</td>\n",
       "      <td>128835</td>\n",
       "    </tr>\n",
       "    <tr>\n",
       "      <th>unique</th>\n",
       "      <td>128835</td>\n",
       "      <td>2</td>\n",
       "      <td>2</td>\n",
       "      <td>4</td>\n",
       "      <td>2</td>\n",
       "      <td>2</td>\n",
       "      <td>NaN</td>\n",
       "      <td>NaN</td>\n",
       "      <td>NaN</td>\n",
       "      <td>NaN</td>\n",
       "      <td>NaN</td>\n",
       "      <td>3</td>\n",
       "      <td>2</td>\n",
       "    </tr>\n",
       "    <tr>\n",
       "      <th>top</th>\n",
       "      <td>LP001002</td>\n",
       "      <td>Male</td>\n",
       "      <td>Yes</td>\n",
       "      <td>0</td>\n",
       "      <td>Graduate</td>\n",
       "      <td>No</td>\n",
       "      <td>NaN</td>\n",
       "      <td>NaN</td>\n",
       "      <td>NaN</td>\n",
       "      <td>NaN</td>\n",
       "      <td>NaN</td>\n",
       "      <td>Semiurban</td>\n",
       "      <td>Y</td>\n",
       "    </tr>\n",
       "    <tr>\n",
       "      <th>freq</th>\n",
       "      <td>1</td>\n",
       "      <td>105334</td>\n",
       "      <td>84140</td>\n",
       "      <td>75546</td>\n",
       "      <td>100720</td>\n",
       "      <td>111630</td>\n",
       "      <td>NaN</td>\n",
       "      <td>NaN</td>\n",
       "      <td>NaN</td>\n",
       "      <td>NaN</td>\n",
       "      <td>NaN</td>\n",
       "      <td>48888</td>\n",
       "      <td>88550</td>\n",
       "    </tr>\n",
       "    <tr>\n",
       "      <th>mean</th>\n",
       "      <td>NaN</td>\n",
       "      <td>NaN</td>\n",
       "      <td>NaN</td>\n",
       "      <td>NaN</td>\n",
       "      <td>NaN</td>\n",
       "      <td>NaN</td>\n",
       "      <td>5403.796142</td>\n",
       "      <td>1620.920792</td>\n",
       "      <td>145.746420</td>\n",
       "      <td>342.414530</td>\n",
       "      <td>0.855063</td>\n",
       "      <td>NaN</td>\n",
       "      <td>NaN</td>\n",
       "    </tr>\n",
       "    <tr>\n",
       "      <th>std</th>\n",
       "      <td>NaN</td>\n",
       "      <td>NaN</td>\n",
       "      <td>NaN</td>\n",
       "      <td>NaN</td>\n",
       "      <td>NaN</td>\n",
       "      <td>NaN</td>\n",
       "      <td>6105.683731</td>\n",
       "      <td>2921.223661</td>\n",
       "      <td>84.030119</td>\n",
       "      <td>64.370008</td>\n",
       "      <td>0.352039</td>\n",
       "      <td>NaN</td>\n",
       "      <td>NaN</td>\n",
       "    </tr>\n",
       "    <tr>\n",
       "      <th>min</th>\n",
       "      <td>NaN</td>\n",
       "      <td>NaN</td>\n",
       "      <td>NaN</td>\n",
       "      <td>NaN</td>\n",
       "      <td>NaN</td>\n",
       "      <td>NaN</td>\n",
       "      <td>150.000000</td>\n",
       "      <td>0.000000</td>\n",
       "      <td>9.000000</td>\n",
       "      <td>12.000000</td>\n",
       "      <td>0.000000</td>\n",
       "      <td>NaN</td>\n",
       "      <td>NaN</td>\n",
       "    </tr>\n",
       "    <tr>\n",
       "      <th>25%</th>\n",
       "      <td>NaN</td>\n",
       "      <td>NaN</td>\n",
       "      <td>NaN</td>\n",
       "      <td>NaN</td>\n",
       "      <td>NaN</td>\n",
       "      <td>NaN</td>\n",
       "      <td>2876.000000</td>\n",
       "      <td>0.000000</td>\n",
       "      <td>100.000000</td>\n",
       "      <td>360.000000</td>\n",
       "      <td>1.000000</td>\n",
       "      <td>NaN</td>\n",
       "      <td>NaN</td>\n",
       "    </tr>\n",
       "    <tr>\n",
       "      <th>50%</th>\n",
       "      <td>NaN</td>\n",
       "      <td>NaN</td>\n",
       "      <td>NaN</td>\n",
       "      <td>NaN</td>\n",
       "      <td>NaN</td>\n",
       "      <td>NaN</td>\n",
       "      <td>3813.000000</td>\n",
       "      <td>1167.000000</td>\n",
       "      <td>128.000000</td>\n",
       "      <td>360.000000</td>\n",
       "      <td>1.000000</td>\n",
       "      <td>NaN</td>\n",
       "      <td>NaN</td>\n",
       "    </tr>\n",
       "    <tr>\n",
       "      <th>75%</th>\n",
       "      <td>NaN</td>\n",
       "      <td>NaN</td>\n",
       "      <td>NaN</td>\n",
       "      <td>NaN</td>\n",
       "      <td>NaN</td>\n",
       "      <td>NaN</td>\n",
       "      <td>5800.000000</td>\n",
       "      <td>2302.000000</td>\n",
       "      <td>165.000000</td>\n",
       "      <td>360.000000</td>\n",
       "      <td>1.000000</td>\n",
       "      <td>NaN</td>\n",
       "      <td>NaN</td>\n",
       "    </tr>\n",
       "    <tr>\n",
       "      <th>max</th>\n",
       "      <td>NaN</td>\n",
       "      <td>NaN</td>\n",
       "      <td>NaN</td>\n",
       "      <td>NaN</td>\n",
       "      <td>NaN</td>\n",
       "      <td>NaN</td>\n",
       "      <td>81000.000000</td>\n",
       "      <td>41667.000000</td>\n",
       "      <td>700.000000</td>\n",
       "      <td>480.000000</td>\n",
       "      <td>1.000000</td>\n",
       "      <td>NaN</td>\n",
       "      <td>NaN</td>\n",
       "    </tr>\n",
       "  </tbody>\n",
       "</table>\n",
       "</div>"
      ],
      "text/plain": [
       "         Loan_ID  Gender Married Dependents Education Self_Employed  \\\n",
       "count     128835  128835  128835     128835    128835        128835   \n",
       "unique    128835       2       2          4         2             2   \n",
       "top     LP001002    Male     Yes          0  Graduate            No   \n",
       "freq           1  105334   84140      75546    100720        111630   \n",
       "mean         NaN     NaN     NaN        NaN       NaN           NaN   \n",
       "std          NaN     NaN     NaN        NaN       NaN           NaN   \n",
       "min          NaN     NaN     NaN        NaN       NaN           NaN   \n",
       "25%          NaN     NaN     NaN        NaN       NaN           NaN   \n",
       "50%          NaN     NaN     NaN        NaN       NaN           NaN   \n",
       "75%          NaN     NaN     NaN        NaN       NaN           NaN   \n",
       "max          NaN     NaN     NaN        NaN       NaN           NaN   \n",
       "\n",
       "        ApplicantIncome  CoapplicantIncome     LoanAmount  Loan_Amount_Term  \\\n",
       "count     128835.000000      128835.000000  128835.000000     128835.000000   \n",
       "unique              NaN                NaN            NaN               NaN   \n",
       "top                 NaN                NaN            NaN               NaN   \n",
       "freq                NaN                NaN            NaN               NaN   \n",
       "mean        5403.796142        1620.920792     145.746420        342.414530   \n",
       "std         6105.683731        2921.223661      84.030119         64.370008   \n",
       "min          150.000000           0.000000       9.000000         12.000000   \n",
       "25%         2876.000000           0.000000     100.000000        360.000000   \n",
       "50%         3813.000000        1167.000000     128.000000        360.000000   \n",
       "75%         5800.000000        2302.000000     165.000000        360.000000   \n",
       "max        81000.000000       41667.000000     700.000000        480.000000   \n",
       "\n",
       "        Credit_History Property_Area Loan_Status  \n",
       "count    128835.000000        128835      128835  \n",
       "unique             NaN             3           2  \n",
       "top                NaN     Semiurban           Y  \n",
       "freq               NaN         48888       88550  \n",
       "mean          0.855063           NaN         NaN  \n",
       "std           0.352039           NaN         NaN  \n",
       "min           0.000000           NaN         NaN  \n",
       "25%           1.000000           NaN         NaN  \n",
       "50%           1.000000           NaN         NaN  \n",
       "75%           1.000000           NaN         NaN  \n",
       "max           1.000000           NaN         NaN  "
      ]
     },
     "execution_count": 59,
     "metadata": {},
     "output_type": "execute_result"
    }
   ],
   "source": [
    "data.describe(include='all')"
   ]
  },
  {
   "cell_type": "code",
   "execution_count": 60,
   "id": "fda02bdb-5ff5-49e9-b4ab-a3c16da7bbc3",
   "metadata": {},
   "outputs": [],
   "source": [
    "# Data Types "
   ]
  },
  {
   "cell_type": "raw",
   "id": "455d653b-0221-4c21-95a0-f1ebd76a6667",
   "metadata": {},
   "source": [
    "one hot encoding >> extra features create\n",
    "label encoding >> replace value as per weightage "
   ]
  },
  {
   "cell_type": "code",
   "execution_count": 61,
   "id": "7bb6511e-afb5-4c06-b0ca-54cebc42976e",
   "metadata": {},
   "outputs": [
    {
     "data": {
      "text/plain": [
       "array(['0', '1', '2', '3+'], dtype=object)"
      ]
     },
     "execution_count": 61,
     "metadata": {},
     "output_type": "execute_result"
    }
   ],
   "source": [
    "data['Dependents'].unique()"
   ]
  },
  {
   "cell_type": "code",
   "execution_count": 62,
   "id": "de1f5936-6cb0-4c40-9a50-dc4b2a4c93ac",
   "metadata": {},
   "outputs": [],
   "source": [
    "data['Gender'].replace({'Male':0,'Female':1}, inplace = True)\n"
   ]
  },
  {
   "cell_type": "code",
   "execution_count": 63,
   "id": "33c78d60-2f06-4a04-ad13-817b55805a6c",
   "metadata": {},
   "outputs": [],
   "source": [
    "data['Married'].replace({'No':0,'Yes':1}, inplace = True)\n"
   ]
  },
  {
   "cell_type": "code",
   "execution_count": 64,
   "id": "848d50f9-76e9-4458-bba0-76e1ae284300",
   "metadata": {},
   "outputs": [],
   "source": [
    "data['Education'].replace({'Not Graduate':0,'Graduate':1}, inplace = True)\n",
    "data['Self_Employed'].replace({'No':0,'Yes':1}, inplace = True)\n",
    "data['Loan_Status'].replace({'N':0,'Y':1}, inplace = True)"
   ]
  },
  {
   "cell_type": "code",
   "execution_count": 65,
   "id": "747a1219-2cf5-43fc-b126-604c7aead03f",
   "metadata": {},
   "outputs": [],
   "source": [
    "data['Credit_History'].replace({'Yes':1}, inplace = True)"
   ]
  },
  {
   "cell_type": "code",
   "execution_count": 66,
   "id": "e2f038a0-d78f-42e2-8df1-5507407d4462",
   "metadata": {},
   "outputs": [],
   "source": [
    "data['Dependents'].replace({'3+':3}, inplace = True)"
   ]
  },
  {
   "cell_type": "code",
   "execution_count": 67,
   "id": "0c02e979-c163-4551-b377-47142f847980",
   "metadata": {},
   "outputs": [],
   "source": [
    "d =  pd.get_dummies(data['Property_Area'],prefix='Property_Area',drop_first=True)\n",
    "data = pd.concat([d,data],axis=1)"
   ]
  },
  {
   "cell_type": "code",
   "execution_count": 68,
   "id": "ad14dd2f-0ccf-43c5-aac1-ca0a139468a7",
   "metadata": {},
   "outputs": [],
   "source": [
    "data.drop(columns = ['Loan_ID','Property_Area'], axis=1,inplace=True)"
   ]
  },
  {
   "cell_type": "code",
   "execution_count": null,
   "id": "f9b93122-0c77-4e77-aa29-dd0902d424fb",
   "metadata": {},
   "outputs": [],
   "source": []
  },
  {
   "cell_type": "code",
   "execution_count": 69,
   "id": "d8149107-8481-4975-a3bc-6c06dd42f852",
   "metadata": {},
   "outputs": [],
   "source": [
    "data['Dependents'] = data['Dependents'].astype(int)"
   ]
  },
  {
   "cell_type": "code",
   "execution_count": 70,
   "id": "1785f8b9-c78b-4db4-b80d-9e32e38f6ef8",
   "metadata": {},
   "outputs": [
    {
     "name": "stdout",
     "output_type": "stream",
     "text": [
      "<class 'pandas.core.frame.DataFrame'>\n",
      "RangeIndex: 128835 entries, 0 to 128834\n",
      "Data columns (total 13 columns):\n",
      " #   Column                   Non-Null Count   Dtype  \n",
      "---  ------                   --------------   -----  \n",
      " 0   Property_Area_Semiurban  128835 non-null  uint8  \n",
      " 1   Property_Area_Urban      128835 non-null  uint8  \n",
      " 2   Gender                   128835 non-null  int64  \n",
      " 3   Married                  128835 non-null  int64  \n",
      " 4   Dependents               128835 non-null  int32  \n",
      " 5   Education                128835 non-null  int64  \n",
      " 6   Self_Employed            128835 non-null  int64  \n",
      " 7   ApplicantIncome          128835 non-null  int64  \n",
      " 8   CoapplicantIncome        128835 non-null  float64\n",
      " 9   LoanAmount               128835 non-null  float64\n",
      " 10  Loan_Amount_Term         128835 non-null  float64\n",
      " 11  Credit_History           128835 non-null  float64\n",
      " 12  Loan_Status              128835 non-null  int64  \n",
      "dtypes: float64(4), int32(1), int64(6), uint8(2)\n",
      "memory usage: 10.6 MB\n"
     ]
    }
   ],
   "source": [
    "data.info()"
   ]
  },
  {
   "cell_type": "code",
   "execution_count": 71,
   "id": "9c60debf-335d-4acd-9046-b4dad2e5e9cb",
   "metadata": {},
   "outputs": [],
   "source": [
    "## Outlier Removal "
   ]
  },
  {
   "cell_type": "code",
   "execution_count": 72,
   "id": "dca8b205-c8d7-476e-b4ec-631200e23d2d",
   "metadata": {},
   "outputs": [
    {
     "name": "stderr",
     "output_type": "stream",
     "text": [
      "C:\\Users\\Shridhar\\AppData\\Local\\Programs\\Python\\Python39\\lib\\site-packages\\seaborn\\_decorators.py:36: FutureWarning: Pass the following variable as a keyword arg: x. From version 0.12, the only valid positional argument will be `data`, and passing other arguments without an explicit keyword will result in an error or misinterpretation.\n",
      "  warnings.warn(\n"
     ]
    },
    {
     "data": {
      "text/plain": [
       "<AxesSubplot:xlabel='ApplicantIncome'>"
      ]
     },
     "execution_count": 72,
     "metadata": {},
     "output_type": "execute_result"
    },
    {
     "data": {
      "image/png": "[encoded data removed]",
      "text/plain": [
       "<Figure size 432x288 with 1 Axes>"
      ]
     },
     "metadata": {
      "needs_background": "light"
     },
     "output_type": "display_data"
    }
   ],
   "source": [
    "sns.boxplot(data['ApplicantIncome'])"
   ]
  },
  {
   "cell_type": "code",
   "execution_count": 73,
   "id": "05d4ed42-cbbd-41ea-8ced-dc214d4ddfa2",
   "metadata": {},
   "outputs": [],
   "source": [
    "data['ApplicantIncome'] = np.log(data['ApplicantIncome'])"
   ]
  },
  {
   "cell_type": "code",
   "execution_count": 74,
   "id": "44a4de9d-afce-42b1-9017-cbf57b07f6e9",
   "metadata": {},
   "outputs": [
    {
     "data": {
      "text/plain": [
       "<AxesSubplot:>"
      ]
     },
     "execution_count": 74,
     "metadata": {},
     "output_type": "execute_result"
    },
    {
     "data": {
      "image/png": "[encoded data removed]",
      "text/plain": [
       "<Figure size 432x288 with 1 Axes>"
      ]
     },
     "metadata": {
      "needs_background": "light"
     },
     "output_type": "display_data"
    }
   ],
   "source": [
    "data['ApplicantIncome'].hist(bins=10)"
   ]
  },
  {
   "cell_type": "code",
   "execution_count": 75,
   "id": "8dc967b9-b6b4-4f7c-b0db-8f962f6018a0",
   "metadata": {},
   "outputs": [
    {
     "data": {
      "text/plain": [
       "7.964155718840937"
      ]
     },
     "execution_count": 75,
     "metadata": {},
     "output_type": "execute_result"
    }
   ],
   "source": [
    "firstQ = data['ApplicantIncome'].quantile(0.25)\n",
    "firstQ"
   ]
  },
  {
   "cell_type": "code",
   "execution_count": 76,
   "id": "26fa5a2d-e564-407a-9c3d-6889d17b04b8",
   "metadata": {},
   "outputs": [
    {
     "data": {
      "text/plain": [
       "8.66561319653451"
      ]
     },
     "execution_count": 76,
     "metadata": {},
     "output_type": "execute_result"
    }
   ],
   "source": [
    "thirdQ = data['ApplicantIncome'].quantile(0.75)\n",
    "thirdQ"
   ]
  },
  {
   "cell_type": "code",
   "execution_count": 77,
   "id": "a1e9a4d1-25fc-4cb8-8f02-848de49b232b",
   "metadata": {},
   "outputs": [
    {
     "data": {
      "text/plain": [
       "0.7014574776935731"
      ]
     },
     "execution_count": 77,
     "metadata": {},
     "output_type": "execute_result"
    }
   ],
   "source": [
    "IQR = thirdQ - firstQ\n",
    "IQR"
   ]
  },
  {
   "cell_type": "code",
   "execution_count": 78,
   "id": "e87d46b5-4712-4e79-a886-46184eb159ab",
   "metadata": {},
   "outputs": [],
   "source": [
    "lowertail = firstQ-(1.5*IQR) \n",
    "uppertail = thirdQ+(1.5*IQR)"
   ]
  },
  {
   "cell_type": "code",
   "execution_count": 83,
   "id": "1c07f646-93e5-47b4-a039-19503597bde6",
   "metadata": {},
   "outputs": [],
   "source": [
    "d1= data['ApplicantIncome'].loc[(data['ApplicantIncome'] < uppertail) & (data['ApplicantIncome'] > lowertail)]\n"
   ]
  },
  {
   "cell_type": "code",
   "execution_count": null,
   "id": "66e1019a-3c2b-498d-bf2f-5edd8bdd0197",
   "metadata": {},
   "outputs": [],
   "source": []
  },
  {
   "cell_type": "code",
   "execution_count": 84,
   "id": "dde613e7-d887-4f07-bf79-c9c0aa4634c7",
   "metadata": {},
   "outputs": [
    {
     "data": {
      "text/plain": [
       "8.299850409696623"
      ]
     },
     "execution_count": 84,
     "metadata": {},
     "output_type": "execute_result"
    }
   ],
   "source": [
    "mean = d1.mean()\n",
    "mean"
   ]
  },
  {
   "cell_type": "code",
   "execution_count": 85,
   "id": "65972459-59d7-4c06-86f3-65ae32eee317",
   "metadata": {},
   "outputs": [],
   "source": [
    "data.loc[(data['ApplicantIncome']>uppertail) | (data['ApplicantIncome']<lowertail),'ApplicantIncome']=mean\n"
   ]
  },
  {
   "cell_type": "raw",
   "id": "b37122c9-4e51-4842-ab80-8a008f4038ca",
   "metadata": {},
   "source": [
    "# Scaling Minmax \n"
   ]
  },
  {
   "cell_type": "code",
   "execution_count": 87,
   "id": "fce2d5a3-3c55-4d6e-81f4-d45597003174",
   "metadata": {},
   "outputs": [],
   "source": []
  },
  {
   "cell_type": "code",
   "execution_count": 90,
   "id": "ebfbd61d-3a09-433d-a820-e9b8411d023b",
   "metadata": {},
   "outputs": [],
   "source": [
    "m = MinMaxScaler()"
   ]
  },
  {
   "cell_type": "code",
   "execution_count": null,
   "id": "8544b7c4-9cd5-4516-84d0-87cfa91cb3f5",
   "metadata": {},
   "outputs": [],
   "source": []
  },
  {
   "cell_type": "code",
   "execution_count": 91,
   "id": "83cf337b-9719-4d90-982c-1aa4172f20a4",
   "metadata": {},
   "outputs": [
    {
     "name": "stdout",
     "output_type": "stream",
     "text": [
      "<class 'pandas.core.frame.DataFrame'>\n",
      "RangeIndex: 128835 entries, 0 to 128834\n",
      "Data columns (total 13 columns):\n",
      " #   Column                   Non-Null Count   Dtype  \n",
      "---  ------                   --------------   -----  \n",
      " 0   Property_Area_Semiurban  128835 non-null  uint8  \n",
      " 1   Property_Area_Urban      128835 non-null  uint8  \n",
      " 2   Gender                   128835 non-null  int64  \n",
      " 3   Married                  128835 non-null  int64  \n",
      " 4   Dependents               128835 non-null  int32  \n",
      " 5   Education                128835 non-null  int64  \n",
      " 6   Self_Employed            128835 non-null  int64  \n",
      " 7   ApplicantIncome          128835 non-null  float64\n",
      " 8   CoapplicantIncome        128835 non-null  float64\n",
      " 9   LoanAmount               128835 non-null  float64\n",
      " 10  Loan_Amount_Term         128835 non-null  float64\n",
      " 11  Credit_History           128835 non-null  float64\n",
      " 12  Loan_Status              128835 non-null  int64  \n",
      "dtypes: float64(5), int32(1), int64(5), uint8(2)\n",
      "memory usage: 10.6 MB\n"
     ]
    }
   ],
   "source": [
    "data.info()"
   ]
  },
  {
   "cell_type": "code",
   "execution_count": 92,
   "id": "82d5082c-9cb0-41a3-8fa0-48beda83619a",
   "metadata": {},
   "outputs": [],
   "source": [
    "d2 = m.fit_transform(data)"
   ]
  },
  {
   "cell_type": "code",
   "execution_count": 93,
   "id": "648df3c0-a619-4f02-bc2c-a4a0a196b261",
   "metadata": {},
   "outputs": [
    {
     "data": {
      "text/html": [
       "<div>\n",
       "<style scoped>\n",
       "    .dataframe tbody tr th:only-of-type {\n",
       "        vertical-align: middle;\n",
       "    }\n",
       "\n",
       "    .dataframe tbody tr th {\n",
       "        vertical-align: top;\n",
       "    }\n",
       "\n",
       "    .dataframe thead th {\n",
       "        text-align: right;\n",
       "    }\n",
       "</style>\n",
       "<table border=\"1\" class=\"dataframe\">\n",
       "  <thead>\n",
       "    <tr style=\"text-align: right;\">\n",
       "      <th></th>\n",
       "      <th>Property_Area_Semiurban</th>\n",
       "      <th>Property_Area_Urban</th>\n",
       "      <th>Gender</th>\n",
       "      <th>Married</th>\n",
       "      <th>Dependents</th>\n",
       "      <th>Education</th>\n",
       "      <th>Self_Employed</th>\n",
       "      <th>ApplicantIncome</th>\n",
       "      <th>CoapplicantIncome</th>\n",
       "      <th>LoanAmount</th>\n",
       "      <th>Loan_Amount_Term</th>\n",
       "      <th>Credit_History</th>\n",
       "      <th>Loan_Status</th>\n",
       "    </tr>\n",
       "  </thead>\n",
       "  <tbody>\n",
       "    <tr>\n",
       "      <th>0</th>\n",
       "      <td>0.0</td>\n",
       "      <td>1.0</td>\n",
       "      <td>0.0</td>\n",
       "      <td>0.0</td>\n",
       "      <td>0.000000</td>\n",
       "      <td>1.0</td>\n",
       "      <td>0.0</td>\n",
       "      <td>0.626426</td>\n",
       "      <td>0.000000</td>\n",
       "      <td>0.172214</td>\n",
       "      <td>0.743590</td>\n",
       "      <td>1.0</td>\n",
       "      <td>1.0</td>\n",
       "    </tr>\n",
       "    <tr>\n",
       "      <th>1</th>\n",
       "      <td>0.0</td>\n",
       "      <td>0.0</td>\n",
       "      <td>0.0</td>\n",
       "      <td>1.0</td>\n",
       "      <td>0.333333</td>\n",
       "      <td>1.0</td>\n",
       "      <td>0.0</td>\n",
       "      <td>0.538692</td>\n",
       "      <td>0.036192</td>\n",
       "      <td>0.172214</td>\n",
       "      <td>0.743590</td>\n",
       "      <td>1.0</td>\n",
       "      <td>0.0</td>\n",
       "    </tr>\n",
       "    <tr>\n",
       "      <th>2</th>\n",
       "      <td>0.0</td>\n",
       "      <td>1.0</td>\n",
       "      <td>0.0</td>\n",
       "      <td>1.0</td>\n",
       "      <td>0.000000</td>\n",
       "      <td>1.0</td>\n",
       "      <td>1.0</td>\n",
       "      <td>0.386277</td>\n",
       "      <td>0.000000</td>\n",
       "      <td>0.082489</td>\n",
       "      <td>0.743590</td>\n",
       "      <td>1.0</td>\n",
       "      <td>1.0</td>\n",
       "    </tr>\n",
       "    <tr>\n",
       "      <th>3</th>\n",
       "      <td>0.0</td>\n",
       "      <td>1.0</td>\n",
       "      <td>0.0</td>\n",
       "      <td>1.0</td>\n",
       "      <td>0.000000</td>\n",
       "      <td>0.0</td>\n",
       "      <td>0.0</td>\n",
       "      <td>0.332445</td>\n",
       "      <td>0.056592</td>\n",
       "      <td>0.160637</td>\n",
       "      <td>0.743590</td>\n",
       "      <td>1.0</td>\n",
       "      <td>1.0</td>\n",
       "    </tr>\n",
       "    <tr>\n",
       "      <th>4</th>\n",
       "      <td>0.0</td>\n",
       "      <td>1.0</td>\n",
       "      <td>0.0</td>\n",
       "      <td>0.0</td>\n",
       "      <td>0.000000</td>\n",
       "      <td>1.0</td>\n",
       "      <td>0.0</td>\n",
       "      <td>0.635594</td>\n",
       "      <td>0.000000</td>\n",
       "      <td>0.191027</td>\n",
       "      <td>0.743590</td>\n",
       "      <td>1.0</td>\n",
       "      <td>1.0</td>\n",
       "    </tr>\n",
       "    <tr>\n",
       "      <th>...</th>\n",
       "      <td>...</td>\n",
       "      <td>...</td>\n",
       "      <td>...</td>\n",
       "      <td>...</td>\n",
       "      <td>...</td>\n",
       "      <td>...</td>\n",
       "      <td>...</td>\n",
       "      <td>...</td>\n",
       "      <td>...</td>\n",
       "      <td>...</td>\n",
       "      <td>...</td>\n",
       "      <td>...</td>\n",
       "      <td>...</td>\n",
       "    </tr>\n",
       "    <tr>\n",
       "      <th>128830</th>\n",
       "      <td>1.0</td>\n",
       "      <td>0.0</td>\n",
       "      <td>0.0</td>\n",
       "      <td>1.0</td>\n",
       "      <td>0.000000</td>\n",
       "      <td>0.0</td>\n",
       "      <td>0.0</td>\n",
       "      <td>0.472626</td>\n",
       "      <td>0.035592</td>\n",
       "      <td>0.166425</td>\n",
       "      <td>0.615385</td>\n",
       "      <td>1.0</td>\n",
       "      <td>1.0</td>\n",
       "    </tr>\n",
       "    <tr>\n",
       "      <th>128831</th>\n",
       "      <td>0.0</td>\n",
       "      <td>0.0</td>\n",
       "      <td>0.0</td>\n",
       "      <td>1.0</td>\n",
       "      <td>0.666667</td>\n",
       "      <td>1.0</td>\n",
       "      <td>0.0</td>\n",
       "      <td>0.442749</td>\n",
       "      <td>0.105983</td>\n",
       "      <td>0.338640</td>\n",
       "      <td>0.743590</td>\n",
       "      <td>1.0</td>\n",
       "      <td>1.0</td>\n",
       "    </tr>\n",
       "    <tr>\n",
       "      <th>128832</th>\n",
       "      <td>0.0</td>\n",
       "      <td>1.0</td>\n",
       "      <td>0.0</td>\n",
       "      <td>1.0</td>\n",
       "      <td>0.000000</td>\n",
       "      <td>1.0</td>\n",
       "      <td>0.0</td>\n",
       "      <td>0.491839</td>\n",
       "      <td>0.160007</td>\n",
       "      <td>0.681621</td>\n",
       "      <td>0.743590</td>\n",
       "      <td>1.0</td>\n",
       "      <td>1.0</td>\n",
       "    </tr>\n",
       "    <tr>\n",
       "      <th>128833</th>\n",
       "      <td>0.0</td>\n",
       "      <td>1.0</td>\n",
       "      <td>0.0</td>\n",
       "      <td>0.0</td>\n",
       "      <td>0.000000</td>\n",
       "      <td>1.0</td>\n",
       "      <td>0.0</td>\n",
       "      <td>0.450153</td>\n",
       "      <td>0.000000</td>\n",
       "      <td>0.125904</td>\n",
       "      <td>0.743590</td>\n",
       "      <td>1.0</td>\n",
       "      <td>0.0</td>\n",
       "    </tr>\n",
       "    <tr>\n",
       "      <th>128834</th>\n",
       "      <td>0.0</td>\n",
       "      <td>1.0</td>\n",
       "      <td>0.0</td>\n",
       "      <td>1.0</td>\n",
       "      <td>0.000000</td>\n",
       "      <td>1.0</td>\n",
       "      <td>1.0</td>\n",
       "      <td>0.317664</td>\n",
       "      <td>0.072311</td>\n",
       "      <td>0.259045</td>\n",
       "      <td>0.743590</td>\n",
       "      <td>1.0</td>\n",
       "      <td>1.0</td>\n",
       "    </tr>\n",
       "  </tbody>\n",
       "</table>\n",
       "<p>128835 rows × 13 columns</p>\n",
       "</div>"
      ],
      "text/plain": [
       "        Property_Area_Semiurban  Property_Area_Urban  Gender  Married  \\\n",
       "0                           0.0                  1.0     0.0      0.0   \n",
       "1                           0.0                  0.0     0.0      1.0   \n",
       "2                           0.0                  1.0     0.0      1.0   \n",
       "3                           0.0                  1.0     0.0      1.0   \n",
       "4                           0.0                  1.0     0.0      0.0   \n",
       "...                         ...                  ...     ...      ...   \n",
       "128830                      1.0                  0.0     0.0      1.0   \n",
       "128831                      0.0                  0.0     0.0      1.0   \n",
       "128832                      0.0                  1.0     0.0      1.0   \n",
       "128833                      0.0                  1.0     0.0      0.0   \n",
       "128834                      0.0                  1.0     0.0      1.0   \n",
       "\n",
       "        Dependents  Education  Self_Employed  ApplicantIncome  \\\n",
       "0         0.000000        1.0            0.0         0.626426   \n",
       "1         0.333333        1.0            0.0         0.538692   \n",
       "2         0.000000        1.0            1.0         0.386277   \n",
       "3         0.000000        0.0            0.0         0.332445   \n",
       "4         0.000000        1.0            0.0         0.635594   \n",
       "...            ...        ...            ...              ...   \n",
       "128830    0.000000        0.0            0.0         0.472626   \n",
       "128831    0.666667        1.0            0.0         0.442749   \n",
       "128832    0.000000        1.0            0.0         0.491839   \n",
       "128833    0.000000        1.0            0.0         0.450153   \n",
       "128834    0.000000        1.0            1.0         0.317664   \n",
       "\n",
       "        CoapplicantIncome  LoanAmount  Loan_Amount_Term  Credit_History  \\\n",
       "0                0.000000    0.172214          0.743590             1.0   \n",
       "1                0.036192    0.172214          0.743590             1.0   \n",
       "2                0.000000    0.082489          0.743590             1.0   \n",
       "3                0.056592    0.160637          0.743590             1.0   \n",
       "4                0.000000    0.191027          0.743590             1.0   \n",
       "...                   ...         ...               ...             ...   \n",
       "128830           0.035592    0.166425          0.615385             1.0   \n",
       "128831           0.105983    0.338640          0.743590             1.0   \n",
       "128832           0.160007    0.681621          0.743590             1.0   \n",
       "128833           0.000000    0.125904          0.743590             1.0   \n",
       "128834           0.072311    0.259045          0.743590             1.0   \n",
       "\n",
       "        Loan_Status  \n",
       "0               1.0  \n",
       "1               0.0  \n",
       "2               1.0  \n",
       "3               1.0  \n",
       "4               1.0  \n",
       "...             ...  \n",
       "128830          1.0  \n",
       "128831          1.0  \n",
       "128832          1.0  \n",
       "128833          0.0  \n",
       "128834          1.0  \n",
       "\n",
       "[128835 rows x 13 columns]"
      ]
     },
     "execution_count": 93,
     "metadata": {},
     "output_type": "execute_result"
    }
   ],
   "source": [
    "data1 =pd.DataFrame(d2,columns=data.columns) \n",
    "data1"
   ]
  },
  {
   "cell_type": "code",
   "execution_count": 94,
   "id": "c8c4fb71-f102-4b6e-8ee3-a84c11634d01",
   "metadata": {},
   "outputs": [
    {
     "name": "stdout",
     "output_type": "stream",
     "text": [
      "<class 'pandas.core.frame.DataFrame'>\n",
      "RangeIndex: 128835 entries, 0 to 128834\n",
      "Data columns (total 13 columns):\n",
      " #   Column                   Non-Null Count   Dtype  \n",
      "---  ------                   --------------   -----  \n",
      " 0   Property_Area_Semiurban  128835 non-null  float64\n",
      " 1   Property_Area_Urban      128835 non-null  float64\n",
      " 2   Gender                   128835 non-null  float64\n",
      " 3   Married                  128835 non-null  float64\n",
      " 4   Dependents               128835 non-null  float64\n",
      " 5   Education                128835 non-null  float64\n",
      " 6   Self_Employed            128835 non-null  float64\n",
      " 7   ApplicantIncome          128835 non-null  float64\n",
      " 8   CoapplicantIncome        128835 non-null  float64\n",
      " 9   LoanAmount               128835 non-null  float64\n",
      " 10  Loan_Amount_Term         128835 non-null  float64\n",
      " 11  Credit_History           128835 non-null  float64\n",
      " 12  Loan_Status              128835 non-null  float64\n",
      "dtypes: float64(13)\n",
      "memory usage: 12.8 MB\n"
     ]
    }
   ],
   "source": [
    "data1.info()"
   ]
  },
  {
   "cell_type": "code",
   "execution_count": null,
   "id": "8d70e9f8-c846-43bd-838c-2fadd3158391",
   "metadata": {},
   "outputs": [],
   "source": [
    "# check "
   ]
  },
  {
   "cell_type": "code",
   "execution_count": 95,
   "id": "1195989c-9bd2-4830-9ab4-a2fd728130ac",
   "metadata": {},
   "outputs": [
    {
     "data": {
      "text/plain": [
       "1.0    88550\n",
       "0.0    40285\n",
       "Name: Loan_Status, dtype: int64"
      ]
     },
     "execution_count": 95,
     "metadata": {},
     "output_type": "execute_result"
    }
   ],
   "source": [
    "data1['Loan_Status'].value_counts()"
   ]
  },
  {
   "cell_type": "code",
   "execution_count": 96,
   "id": "65491166-6783-41ba-b091-e14677f39016",
   "metadata": {},
   "outputs": [
    {
     "data": {
      "text/plain": [
       "1.0    68.731323\n",
       "0.0    31.268677\n",
       "Name: Loan_Status, dtype: float64"
      ]
     },
     "execution_count": 96,
     "metadata": {},
     "output_type": "execute_result"
    }
   ],
   "source": [
    "data1['Loan_Status'].value_counts() / len(data1)*100"
   ]
  },
  {
   "cell_type": "code",
   "execution_count": 97,
   "id": "104855a0-7157-4c6e-b2a2-d93eac037d88",
   "metadata": {},
   "outputs": [
    {
     "data": {
      "text/plain": [
       "<AxesSubplot:>"
      ]
     },
     "execution_count": 97,
     "metadata": {},
     "output_type": "execute_result"
    },
    {
     "data": {
      "image/png": "[encoded data removed]",
      "text/plain": [
       "<Figure size 432x288 with 1 Axes>"
      ]
     },
     "metadata": {
      "needs_background": "light"
     },
     "output_type": "display_data"
    }
   ],
   "source": [
    "data1['Loan_Status'].value_counts().plot(kind='bar')"
   ]
  },
  {
   "cell_type": "code",
   "execution_count": 98,
   "id": "3b92e69b-48c7-457c-a3bd-c85b50a05b91",
   "metadata": {},
   "outputs": [
    {
     "name": "stderr",
     "output_type": "stream",
     "text": [
      "C:\\Users\\Shridhar\\AppData\\Local\\Programs\\Python\\Python39\\lib\\site-packages\\seaborn\\_decorators.py:36: FutureWarning: Pass the following variable as a keyword arg: x. From version 0.12, the only valid positional argument will be `data`, and passing other arguments without an explicit keyword will result in an error or misinterpretation.\n",
      "  warnings.warn(\n"
     ]
    },
    {
     "data": {
      "text/plain": [
       "<AxesSubplot:xlabel='Loan_Status', ylabel='count'>"
      ]
     },
     "execution_count": 98,
     "metadata": {},
     "output_type": "execute_result"
    },
    {
     "data": {
      "image/png": "[encoded data removed]",
      "text/plain": [
       "<Figure size 432x288 with 1 Axes>"
      ]
     },
     "metadata": {
      "needs_background": "light"
     },
     "output_type": "display_data"
    }
   ],
   "source": [
    "sns.countplot(data1['Loan_Status'])"
   ]
  },
  {
   "cell_type": "code",
   "execution_count": 100,
   "id": "4e16838f-8ba7-4b76-936a-f231ea1865c1",
   "metadata": {},
   "outputs": [],
   "source": [
    "from imblearn.over_sampling import SMOTE,RandomOverSampler\n",
    "from imblearn.under_sampling import RandomUnderSampler"
   ]
  },
  {
   "cell_type": "code",
   "execution_count": 101,
   "id": "ed2ec5ea-56e1-45d4-9fb7-80788b01c18f",
   "metadata": {},
   "outputs": [],
   "source": [
    "sm = SMOTE()"
   ]
  },
  {
   "cell_type": "code",
   "execution_count": 102,
   "id": "7fcc5181-eeb0-4efd-8fa8-0c7dbb9bfe4e",
   "metadata": {},
   "outputs": [],
   "source": [
    "from sklearn.model_selection import train_test_split"
   ]
  },
  {
   "cell_type": "code",
   "execution_count": 103,
   "id": "2437e12d-9a63-4349-a729-df00a7331c29",
   "metadata": {},
   "outputs": [],
   "source": [
    "X = data1.drop(['Loan_Status'],axis=1)\n",
    "y = data1['Loan_Status']"
   ]
  },
  {
   "cell_type": "code",
   "execution_count": 104,
   "id": "74031130-92f6-42c9-b76a-c9da44165f77",
   "metadata": {},
   "outputs": [],
   "source": [
    "X_train,X_test,y_train,y_test = train_test_split(X,y,test_size=0.2,random_state=1,stratify = y)"
   ]
  },
  {
   "cell_type": "code",
   "execution_count": 105,
   "id": "6df81e46-a7d8-4a62-80e6-f7b1448c6d72",
   "metadata": {},
   "outputs": [],
   "source": [
    "sm = SMOTE(random_state=10)"
   ]
  },
  {
   "cell_type": "code",
   "execution_count": 106,
   "id": "bf0f1001-d00d-4c1f-8c13-1b44eedafd97",
   "metadata": {},
   "outputs": [],
   "source": [
    "X_train_smote,y_train_smote = sm.fit_resample(X_train,y_train)"
   ]
  },
  {
   "cell_type": "code",
   "execution_count": 107,
   "id": "65fe478f-a138-49dc-97ff-5039cfb789a1",
   "metadata": {},
   "outputs": [
    {
     "data": {
      "text/plain": [
       "<AxesSubplot:>"
      ]
     },
     "execution_count": 107,
     "metadata": {},
     "output_type": "execute_result"
    },
    {
     "data": {
      "image/png": "[encoded data removed]",
      "text/plain": [
       "<Figure size 432x288 with 1 Axes>"
      ]
     },
     "metadata": {
      "needs_background": "light"
     },
     "output_type": "display_data"
    }
   ],
   "source": [
    "y_train_smote.value_counts().plot(kind='bar')"
   ]
  },
  {
   "cell_type": "code",
   "execution_count": 108,
   "id": "02dc1003-5e86-44ec-a80d-45c175df3d33",
   "metadata": {},
   "outputs": [
    {
     "data": {
      "text/plain": [
       "<AxesSubplot:>"
      ]
     },
     "execution_count": 108,
     "metadata": {},
     "output_type": "execute_result"
    },
    {
     "data": {
      "image/png": "[encoded data removed]",
      "text/plain": [
       "<Figure size 432x288 with 1 Axes>"
      ]
     },
     "metadata": {
      "needs_background": "light"
     },
     "output_type": "display_data"
    }
   ],
   "source": [
    "y_train.value_counts().plot(kind='bar')"
   ]
  },
  {
   "cell_type": "code",
   "execution_count": 109,
   "id": "273feb09-c41a-46b2-9c96-3de9cc8d1a1f",
   "metadata": {},
   "outputs": [],
   "source": [
    "oversample = RandomOverSampler(sampling_strategy='minority',random_state= 5)\n",
    "# Increase minority class to match majority "
   ]
  },
  {
   "cell_type": "code",
   "execution_count": 110,
   "id": "a1c27812-08ca-47e9-857e-3fdfcc33dcbe",
   "metadata": {},
   "outputs": [],
   "source": [
    "X_train_over,y_train_over = oversample.fit_resample(X_train,y_train)"
   ]
  },
  {
   "cell_type": "code",
   "execution_count": 111,
   "id": "8c8dafaf-d0d4-45b6-be4e-8dd95efe7ab9",
   "metadata": {},
   "outputs": [
    {
     "data": {
      "text/plain": [
       "<AxesSubplot:>"
      ]
     },
     "execution_count": 111,
     "metadata": {},
     "output_type": "execute_result"
    },
    {
     "data": {
      "image/png": "[encoded data removed]",
      "text/plain": [
       "<Figure size 432x288 with 1 Axes>"
      ]
     },
     "metadata": {
      "needs_background": "light"
     },
     "output_type": "display_data"
    }
   ],
   "source": [
    "y_train_over.value_counts().plot(kind='bar')"
   ]
  },
  {
   "cell_type": "code",
   "execution_count": 112,
   "id": "1163cb5a-f80a-4674-bd04-2db950715a98",
   "metadata": {},
   "outputs": [],
   "source": [
    "oversample = RandomOverSampler(sampling_strategy=0.5,random_state= 5)\n",
    "# Increase minority class to match majority "
   ]
  },
  {
   "cell_type": "code",
   "execution_count": 113,
   "id": "6f84fba3-1c6b-406a-a51d-ac3c07eca141",
   "metadata": {},
   "outputs": [],
   "source": [
    "X_train_over,y_train_over = oversample.fit_resample(X_train,y_train)"
   ]
  },
  {
   "cell_type": "code",
   "execution_count": 115,
   "id": "658ee4ff-424b-416f-bb13-a29fdbdfa606",
   "metadata": {},
   "outputs": [
    {
     "data": {
      "text/plain": [
       "1.0    54.985058\n",
       "0.0    27.492529\n",
       "Name: Loan_Status, dtype: float64"
      ]
     },
     "execution_count": 115,
     "metadata": {},
     "output_type": "execute_result"
    }
   ],
   "source": [
    "y_train_over.value_counts() / len(data1)*100"
   ]
  },
  {
   "cell_type": "code",
   "execution_count": 130,
   "id": "b6e6d110-0788-40cd-88e6-da98494b792f",
   "metadata": {},
   "outputs": [],
   "source": [
    "under = RandomUnderSampler(sampling_strategy='majority',random_state= 5)\n",
    "# Increase minority class to match majority "
   ]
  },
  {
   "cell_type": "code",
   "execution_count": 131,
   "id": "5cb695dc-287e-4ff8-a27c-1075073fe1ac",
   "metadata": {},
   "outputs": [],
   "source": [
    "X_train_under,y_train_under = under.fit_resample(X_train,y_train)"
   ]
  },
  {
   "cell_type": "code",
   "execution_count": 132,
   "id": "5f2b68c8-1b4f-498f-8382-e0175ead395c",
   "metadata": {},
   "outputs": [
    {
     "data": {
      "text/plain": [
       "<AxesSubplot:>"
      ]
     },
     "execution_count": 132,
     "metadata": {},
     "output_type": "execute_result"
    },
    {
     "data": {
      "image/png": "[encoded data removed]",
      "text/plain": [
       "<Figure size 432x288 with 1 Axes>"
      ]
     },
     "metadata": {
      "needs_background": "light"
     },
     "output_type": "display_data"
    }
   ],
   "source": [
    "y_train_under.value_counts().plot(kind='bar')"
   ]
  },
  {
   "cell_type": "code",
   "execution_count": null,
   "id": "400267c0-6e98-4b99-9b31-a97197e30dd3",
   "metadata": {},
   "outputs": [],
   "source": []
  },
  {
   "cell_type": "code",
   "execution_count": null,
   "id": "b9d2b5fd-2bc6-4f0b-b44f-db4a8d8e3c19",
   "metadata": {},
   "outputs": [],
   "source": [
    "0 - 100 = 50 \n",
    "\n",
    "0-20 = 12 \n",
    "21-40 = 15\n",
    "41-60 = 20\n",
    "61-80 = 8\n",
    "81-100 = 15"
   ]
  },
  {
   "cell_type": "code",
   "execution_count": 118,
   "id": "e86cfaeb-ecd9-4b72-90e7-d0952f4d14ac",
   "metadata": {},
   "outputs": [],
   "source": [
    "df = pd.read_csv(r'dataset\\final_loan.csv')"
   ]
  },
  {
   "cell_type": "code",
   "execution_count": 119,
   "id": "77b100cf-7ac3-4e85-a20a-706c9f3ee383",
   "metadata": {},
   "outputs": [
    {
     "name": "stdout",
     "output_type": "stream",
     "text": [
      "<class 'pandas.core.frame.DataFrame'>\n",
      "RangeIndex: 128835 entries, 0 to 128834\n",
      "Data columns (total 13 columns):\n",
      " #   Column             Non-Null Count   Dtype  \n",
      "---  ------             --------------   -----  \n",
      " 0   Loan_ID            128835 non-null  object \n",
      " 1   Gender             126108 non-null  object \n",
      " 2   Married            128205 non-null  object \n",
      " 3   Dependents         125688 non-null  object \n",
      " 4   Education          128835 non-null  object \n",
      " 5   Self_Employed      122120 non-null  object \n",
      " 6   ApplicantIncome    128835 non-null  int64  \n",
      " 7   CoapplicantIncome  128835 non-null  float64\n",
      " 8   LoanAmount         124219 non-null  float64\n",
      " 9   Loan_Amount_Term   125895 non-null  float64\n",
      " 10  Credit_History     118342 non-null  float64\n",
      " 11  Property_Area      128835 non-null  object \n",
      " 12  Loan_Status        128835 non-null  object \n",
      "dtypes: float64(4), int64(1), object(8)\n",
      "memory usage: 12.8+ MB\n"
     ]
    }
   ],
   "source": [
    "df.info()"
   ]
  },
  {
   "cell_type": "code",
   "execution_count": 121,
   "id": "47f4e329-e7a8-41d7-a701-4979a09e7b4c",
   "metadata": {},
   "outputs": [
    {
     "data": {
      "text/plain": [
       "count    128835.000000\n",
       "mean       5403.796142\n",
       "std        6105.683731\n",
       "min         150.000000\n",
       "25%        2876.000000\n",
       "50%        3813.000000\n",
       "75%        5800.000000\n",
       "max       81000.000000\n",
       "Name: ApplicantIncome, dtype: float64"
      ]
     },
     "execution_count": 121,
     "metadata": {},
     "output_type": "execute_result"
    }
   ],
   "source": [
    "df['ApplicantIncome'].describe()"
   ]
  },
  {
   "cell_type": "code",
   "execution_count": 125,
   "id": "1138aa29-8a12-4f47-bd34-14768eac8fb9",
   "metadata": {},
   "outputs": [
    {
     "data": {
      "text/plain": [
       "(69.15, 8235.0]       111837\n",
       "(8235.0, 16320.0]      12382\n",
       "(16320.0, 24405.0]      3146\n",
       "(32490.0, 40575.0]       840\n",
       "(48660.0, 56745.0]       210\n",
       "(56745.0, 64830.0]       210\n",
       "(72915.0, 81000.0]       210\n",
       "(24405.0, 32490.0]         0\n",
       "(40575.0, 48660.0]         0\n",
       "(64830.0, 72915.0]         0\n",
       "Name: ApplicantIncome, dtype: int64"
      ]
     },
     "execution_count": 125,
     "metadata": {},
     "output_type": "execute_result"
    }
   ],
   "source": [
    "pd.cut(df['ApplicantIncome'],bins=10).value_counts()"
   ]
  },
  {
   "cell_type": "code",
   "execution_count": 124,
   "id": "2321535c-6c55-4fd2-a16d-c20a835cd4a4",
   "metadata": {},
   "outputs": [
    {
     "data": {
      "text/plain": [
       "0      5849\n",
       "1      4583\n",
       "2      3000\n",
       "3      2583\n",
       "4      6000\n",
       "5      5417\n",
       "6      2333\n",
       "7      3036\n",
       "8      4006\n",
       "9     12841\n",
       "10     3200\n",
       "11     2500\n",
       "12     3073\n",
       "13     1853\n",
       "14     1299\n",
       "15     4950\n",
       "16     3596\n",
       "17     3510\n",
       "18     4887\n",
       "19     2600\n",
       "Name: ApplicantIncome, dtype: int64"
      ]
     },
     "execution_count": 124,
     "metadata": {},
     "output_type": "execute_result"
    }
   ],
   "source": [
    "df['ApplicantIncome'].head(20)"
   ]
  },
  {
   "cell_type": "code",
   "execution_count": 126,
   "id": "8d7ecb7d-b9dc-49c3-b329-8540f1d29c87",
   "metadata": {},
   "outputs": [],
   "source": [
    "# Model training on imbalnace data \n",
    "\n",
    "from sklearn.linear_model import LogisticRegression\n",
    "from sklearn.metrics import f1_score"
   ]
  },
  {
   "cell_type": "code",
   "execution_count": 127,
   "id": "7782f140-8645-4fb7-a681-73f864fc222b",
   "metadata": {},
   "outputs": [
    {
     "data": {
      "text/plain": [
       "0.8787672442056947"
      ]
     },
     "execution_count": 127,
     "metadata": {},
     "output_type": "execute_result"
    }
   ],
   "source": [
    "## imbalnce data \n",
    "logreg = LogisticRegression()\n",
    "model = logreg.fit(X_train,y_train)\n",
    "y_pred_logreg = model.predict(X_test)\n",
    "f1_score(y_test,y_pred_logreg)"
   ]
  },
  {
   "cell_type": "code",
   "execution_count": 128,
   "id": "aa612bc9-b4b8-44f8-b251-270dd3ca28c1",
   "metadata": {},
   "outputs": [
    {
     "data": {
      "text/plain": [
       "0.8426527958387516"
      ]
     },
     "execution_count": 128,
     "metadata": {},
     "output_type": "execute_result"
    }
   ],
   "source": [
    "## balance data \n",
    "logreg = LogisticRegression()\n",
    "model = logreg.fit(X_train_smote,y_train_smote)\n",
    "y_pred_logreg = model.predict(X_test)\n",
    "f1_score(y_test,y_pred_logreg)"
   ]
  },
  {
   "cell_type": "code",
   "execution_count": 129,
   "id": "0f467131-6689-4fd7-b983-72f4e316f1d0",
   "metadata": {},
   "outputs": [
    {
     "data": {
      "text/plain": [
       "0.8787672442056947"
      ]
     },
     "execution_count": 129,
     "metadata": {},
     "output_type": "execute_result"
    }
   ],
   "source": [
    "## oversampled balance data \n",
    "logreg = LogisticRegression()\n",
    "model = logreg.fit(X_train_over,y_train_over)\n",
    "y_pred_logreg = model.predict(X_test)\n",
    "f1_score(y_test,y_pred_logreg)"
   ]
  },
  {
   "cell_type": "code",
   "execution_count": 133,
   "id": "c47f963a-5e76-4765-b18e-24fed36e4858",
   "metadata": {},
   "outputs": [
    {
     "data": {
      "text/plain": [
       "0.8460625674217908"
      ]
     },
     "execution_count": 133,
     "metadata": {},
     "output_type": "execute_result"
    }
   ],
   "source": [
    "## under sampled balance data \n",
    "logreg = LogisticRegression()\n",
    "model = logreg.fit(X_train_under,y_train_under)\n",
    "y_pred_logreg = model.predict(X_test)\n",
    "f1_score(y_test,y_pred_logreg)"
   ]
  },
  {
   "cell_type": "markdown",
   "id": "2278eb57-16b3-4012-b54d-5a5b0f14eede",
   "metadata": {},
   "source": [
    "# 5. Feature Selection "
   ]
  },
  {
   "cell_type": "code",
   "execution_count": 134,
   "id": "7d7bea4c-8af4-415c-9e29-bd988d60b3ad",
   "metadata": {},
   "outputs": [],
   "source": [
    "# 1. corrleation"
   ]
  },
  {
   "cell_type": "code",
   "execution_count": 135,
   "id": "a011dcf7-e2df-410e-83eb-45eec40cf391",
   "metadata": {},
   "outputs": [
    {
     "data": {
      "text/html": [
       "<div>\n",
       "<style scoped>\n",
       "    .dataframe tbody tr th:only-of-type {\n",
       "        vertical-align: middle;\n",
       "    }\n",
       "\n",
       "    .dataframe tbody tr th {\n",
       "        vertical-align: top;\n",
       "    }\n",
       "\n",
       "    .dataframe thead th {\n",
       "        text-align: right;\n",
       "    }\n",
       "</style>\n",
       "<table border=\"1\" class=\"dataframe\">\n",
       "  <thead>\n",
       "    <tr style=\"text-align: right;\">\n",
       "      <th></th>\n",
       "      <th>Property_Area_Semiurban</th>\n",
       "      <th>Property_Area_Urban</th>\n",
       "      <th>Gender</th>\n",
       "      <th>Married</th>\n",
       "      <th>Dependents</th>\n",
       "      <th>Education</th>\n",
       "      <th>Self_Employed</th>\n",
       "      <th>ApplicantIncome</th>\n",
       "      <th>CoapplicantIncome</th>\n",
       "      <th>LoanAmount</th>\n",
       "      <th>Loan_Amount_Term</th>\n",
       "      <th>Credit_History</th>\n",
       "      <th>Loan_Status</th>\n",
       "    </tr>\n",
       "  </thead>\n",
       "  <tbody>\n",
       "    <tr>\n",
       "      <th>Property_Area_Semiurban</th>\n",
       "      <td>1.000000</td>\n",
       "      <td>-0.547617</td>\n",
       "      <td>0.108530</td>\n",
       "      <td>0.005950</td>\n",
       "      <td>0.001955</td>\n",
       "      <td>0.039484</td>\n",
       "      <td>0.008669</td>\n",
       "      <td>-0.007900</td>\n",
       "      <td>-0.026850</td>\n",
       "      <td>-0.005784</td>\n",
       "      <td>0.059147</td>\n",
       "      <td>0.036063</td>\n",
       "      <td>0.136691</td>\n",
       "    </tr>\n",
       "    <tr>\n",
       "      <th>Property_Area_Urban</th>\n",
       "      <td>-0.547617</td>\n",
       "      <td>1.000000</td>\n",
       "      <td>-0.034554</td>\n",
       "      <td>0.000538</td>\n",
       "      <td>-0.001203</td>\n",
       "      <td>0.034195</td>\n",
       "      <td>-0.030262</td>\n",
       "      <td>-0.043596</td>\n",
       "      <td>0.022537</td>\n",
       "      <td>-0.036099</td>\n",
       "      <td>-0.094369</td>\n",
       "      <td>-0.016978</td>\n",
       "      <td>-0.043708</td>\n",
       "    </tr>\n",
       "    <tr>\n",
       "      <th>Gender</th>\n",
       "      <td>0.108530</td>\n",
       "      <td>-0.034554</td>\n",
       "      <td>1.000000</td>\n",
       "      <td>-0.364623</td>\n",
       "      <td>-0.172926</td>\n",
       "      <td>0.045376</td>\n",
       "      <td>0.000509</td>\n",
       "      <td>-0.049900</td>\n",
       "      <td>-0.083139</td>\n",
       "      <td>-0.107010</td>\n",
       "      <td>0.074038</td>\n",
       "      <td>-0.009182</td>\n",
       "      <td>-0.018016</td>\n",
       "    </tr>\n",
       "    <tr>\n",
       "      <th>Married</th>\n",
       "      <td>0.005950</td>\n",
       "      <td>0.000538</td>\n",
       "      <td>-0.364623</td>\n",
       "      <td>1.000000</td>\n",
       "      <td>0.334223</td>\n",
       "      <td>-0.012379</td>\n",
       "      <td>0.004444</td>\n",
       "      <td>-0.003176</td>\n",
       "      <td>0.076245</td>\n",
       "      <td>0.146484</td>\n",
       "      <td>-0.100929</td>\n",
       "      <td>0.010979</td>\n",
       "      <td>0.091437</td>\n",
       "    </tr>\n",
       "    <tr>\n",
       "      <th>Dependents</th>\n",
       "      <td>0.001955</td>\n",
       "      <td>-0.001203</td>\n",
       "      <td>-0.172926</td>\n",
       "      <td>0.334223</td>\n",
       "      <td>1.000000</td>\n",
       "      <td>-0.055947</td>\n",
       "      <td>0.056648</td>\n",
       "      <td>0.117933</td>\n",
       "      <td>0.030410</td>\n",
       "      <td>0.163037</td>\n",
       "      <td>-0.103921</td>\n",
       "      <td>-0.040235</td>\n",
       "      <td>0.010066</td>\n",
       "    </tr>\n",
       "    <tr>\n",
       "      <th>Education</th>\n",
       "      <td>0.039484</td>\n",
       "      <td>0.034195</td>\n",
       "      <td>0.045376</td>\n",
       "      <td>-0.012379</td>\n",
       "      <td>-0.055947</td>\n",
       "      <td>1.000000</td>\n",
       "      <td>0.010362</td>\n",
       "      <td>0.195346</td>\n",
       "      <td>0.062265</td>\n",
       "      <td>0.168746</td>\n",
       "      <td>0.074047</td>\n",
       "      <td>0.073777</td>\n",
       "      <td>0.085929</td>\n",
       "    </tr>\n",
       "    <tr>\n",
       "      <th>Self_Employed</th>\n",
       "      <td>0.008669</td>\n",
       "      <td>-0.030262</td>\n",
       "      <td>0.000509</td>\n",
       "      <td>0.004444</td>\n",
       "      <td>0.056648</td>\n",
       "      <td>0.010362</td>\n",
       "      <td>1.000000</td>\n",
       "      <td>0.203999</td>\n",
       "      <td>-0.015970</td>\n",
       "      <td>0.114856</td>\n",
       "      <td>-0.033847</td>\n",
       "      <td>-0.001514</td>\n",
       "      <td>-0.003703</td>\n",
       "    </tr>\n",
       "    <tr>\n",
       "      <th>ApplicantIncome</th>\n",
       "      <td>-0.007900</td>\n",
       "      <td>-0.043596</td>\n",
       "      <td>-0.049900</td>\n",
       "      <td>-0.003176</td>\n",
       "      <td>0.117933</td>\n",
       "      <td>0.195346</td>\n",
       "      <td>0.203999</td>\n",
       "      <td>1.000000</td>\n",
       "      <td>-0.157515</td>\n",
       "      <td>0.380576</td>\n",
       "      <td>-0.029865</td>\n",
       "      <td>0.033095</td>\n",
       "      <td>-0.010060</td>\n",
       "    </tr>\n",
       "    <tr>\n",
       "      <th>CoapplicantIncome</th>\n",
       "      <td>-0.026850</td>\n",
       "      <td>0.022537</td>\n",
       "      <td>-0.083139</td>\n",
       "      <td>0.076245</td>\n",
       "      <td>0.030410</td>\n",
       "      <td>0.062265</td>\n",
       "      <td>-0.015970</td>\n",
       "      <td>-0.157515</td>\n",
       "      <td>1.000000</td>\n",
       "      <td>0.189302</td>\n",
       "      <td>-0.059167</td>\n",
       "      <td>0.011050</td>\n",
       "      <td>-0.059005</td>\n",
       "    </tr>\n",
       "    <tr>\n",
       "      <th>LoanAmount</th>\n",
       "      <td>-0.005784</td>\n",
       "      <td>-0.036099</td>\n",
       "      <td>-0.107010</td>\n",
       "      <td>0.146484</td>\n",
       "      <td>0.163037</td>\n",
       "      <td>0.168746</td>\n",
       "      <td>0.114856</td>\n",
       "      <td>0.380576</td>\n",
       "      <td>0.189302</td>\n",
       "      <td>1.000000</td>\n",
       "      <td>0.036927</td>\n",
       "      <td>-0.000685</td>\n",
       "      <td>-0.033333</td>\n",
       "    </tr>\n",
       "    <tr>\n",
       "      <th>Loan_Amount_Term</th>\n",
       "      <td>0.059147</td>\n",
       "      <td>-0.094369</td>\n",
       "      <td>0.074038</td>\n",
       "      <td>-0.100929</td>\n",
       "      <td>-0.103921</td>\n",
       "      <td>0.074047</td>\n",
       "      <td>-0.033847</td>\n",
       "      <td>-0.029865</td>\n",
       "      <td>-0.059167</td>\n",
       "      <td>0.036927</td>\n",
       "      <td>1.000000</td>\n",
       "      <td>-0.004642</td>\n",
       "      <td>-0.022710</td>\n",
       "    </tr>\n",
       "    <tr>\n",
       "      <th>Credit_History</th>\n",
       "      <td>0.036063</td>\n",
       "      <td>-0.016978</td>\n",
       "      <td>-0.009182</td>\n",
       "      <td>0.010979</td>\n",
       "      <td>-0.040235</td>\n",
       "      <td>0.073777</td>\n",
       "      <td>-0.001514</td>\n",
       "      <td>0.033095</td>\n",
       "      <td>0.011050</td>\n",
       "      <td>-0.000685</td>\n",
       "      <td>-0.004642</td>\n",
       "      <td>1.000000</td>\n",
       "      <td>0.540533</td>\n",
       "    </tr>\n",
       "    <tr>\n",
       "      <th>Loan_Status</th>\n",
       "      <td>0.136691</td>\n",
       "      <td>-0.043708</td>\n",
       "      <td>-0.018016</td>\n",
       "      <td>0.091437</td>\n",
       "      <td>0.010066</td>\n",
       "      <td>0.085929</td>\n",
       "      <td>-0.003703</td>\n",
       "      <td>-0.010060</td>\n",
       "      <td>-0.059005</td>\n",
       "      <td>-0.033333</td>\n",
       "      <td>-0.022710</td>\n",
       "      <td>0.540533</td>\n",
       "      <td>1.000000</td>\n",
       "    </tr>\n",
       "  </tbody>\n",
       "</table>\n",
       "</div>"
      ],
      "text/plain": [
       "                         Property_Area_Semiurban  Property_Area_Urban  \\\n",
       "Property_Area_Semiurban                 1.000000            -0.547617   \n",
       "Property_Area_Urban                    -0.547617             1.000000   \n",
       "Gender                                  0.108530            -0.034554   \n",
       "Married                                 0.005950             0.000538   \n",
       "Dependents                              0.001955            -0.001203   \n",
       "Education                               0.039484             0.034195   \n",
       "Self_Employed                           0.008669            -0.030262   \n",
       "ApplicantIncome                        -0.007900            -0.043596   \n",
       "CoapplicantIncome                      -0.026850             0.022537   \n",
       "LoanAmount                             -0.005784            -0.036099   \n",
       "Loan_Amount_Term                        0.059147            -0.094369   \n",
       "Credit_History                          0.036063            -0.016978   \n",
       "Loan_Status                             0.136691            -0.043708   \n",
       "\n",
       "                           Gender   Married  Dependents  Education  \\\n",
       "Property_Area_Semiurban  0.108530  0.005950    0.001955   0.039484   \n",
       "Property_Area_Urban     -0.034554  0.000538   -0.001203   0.034195   \n",
       "Gender                   1.000000 -0.364623   -0.172926   0.045376   \n",
       "Married                 -0.364623  1.000000    0.334223  -0.012379   \n",
       "Dependents              -0.172926  0.334223    1.000000  -0.055947   \n",
       "Education                0.045376 -0.012379   -0.055947   1.000000   \n",
       "Self_Employed            0.000509  0.004444    0.056648   0.010362   \n",
       "ApplicantIncome         -0.049900 -0.003176    0.117933   0.195346   \n",
       "CoapplicantIncome       -0.083139  0.076245    0.030410   0.062265   \n",
       "LoanAmount              -0.107010  0.146484    0.163037   0.168746   \n",
       "Loan_Amount_Term         0.074038 -0.100929   -0.103921   0.074047   \n",
       "Credit_History          -0.009182  0.010979   -0.040235   0.073777   \n",
       "Loan_Status             -0.018016  0.091437    0.010066   0.085929   \n",
       "\n",
       "                         Self_Employed  ApplicantIncome  CoapplicantIncome  \\\n",
       "Property_Area_Semiurban       0.008669        -0.007900          -0.026850   \n",
       "Property_Area_Urban          -0.030262        -0.043596           0.022537   \n",
       "Gender                        0.000509        -0.049900          -0.083139   \n",
       "Married                       0.004444        -0.003176           0.076245   \n",
       "Dependents                    0.056648         0.117933           0.030410   \n",
       "Education                     0.010362         0.195346           0.062265   \n",
       "Self_Employed                 1.000000         0.203999          -0.015970   \n",
       "ApplicantIncome               0.203999         1.000000          -0.157515   \n",
       "CoapplicantIncome            -0.015970        -0.157515           1.000000   \n",
       "LoanAmount                    0.114856         0.380576           0.189302   \n",
       "Loan_Amount_Term             -0.033847        -0.029865          -0.059167   \n",
       "Credit_History               -0.001514         0.033095           0.011050   \n",
       "Loan_Status                  -0.003703        -0.010060          -0.059005   \n",
       "\n",
       "                         LoanAmount  Loan_Amount_Term  Credit_History  \\\n",
       "Property_Area_Semiurban   -0.005784          0.059147        0.036063   \n",
       "Property_Area_Urban       -0.036099         -0.094369       -0.016978   \n",
       "Gender                    -0.107010          0.074038       -0.009182   \n",
       "Married                    0.146484         -0.100929        0.010979   \n",
       "Dependents                 0.163037         -0.103921       -0.040235   \n",
       "Education                  0.168746          0.074047        0.073777   \n",
       "Self_Employed              0.114856         -0.033847       -0.001514   \n",
       "ApplicantIncome            0.380576         -0.029865        0.033095   \n",
       "CoapplicantIncome          0.189302         -0.059167        0.011050   \n",
       "LoanAmount                 1.000000          0.036927       -0.000685   \n",
       "Loan_Amount_Term           0.036927          1.000000       -0.004642   \n",
       "Credit_History            -0.000685         -0.004642        1.000000   \n",
       "Loan_Status               -0.033333         -0.022710        0.540533   \n",
       "\n",
       "                         Loan_Status  \n",
       "Property_Area_Semiurban     0.136691  \n",
       "Property_Area_Urban        -0.043708  \n",
       "Gender                     -0.018016  \n",
       "Married                     0.091437  \n",
       "Dependents                  0.010066  \n",
       "Education                   0.085929  \n",
       "Self_Employed              -0.003703  \n",
       "ApplicantIncome            -0.010060  \n",
       "CoapplicantIncome          -0.059005  \n",
       "LoanAmount                 -0.033333  \n",
       "Loan_Amount_Term           -0.022710  \n",
       "Credit_History              0.540533  \n",
       "Loan_Status                 1.000000  "
      ]
     },
     "execution_count": 135,
     "metadata": {},
     "output_type": "execute_result"
    }
   ],
   "source": [
    "data1.corr()"
   ]
  },
  {
   "cell_type": "code",
   "execution_count": 139,
   "id": "8e065103-2cb3-4e4c-bca6-b7cc759654c5",
   "metadata": {},
   "outputs": [
    {
     "data": {
      "text/plain": [
       "<AxesSubplot:>"
      ]
     },
     "execution_count": 139,
     "metadata": {},
     "output_type": "execute_result"
    },
    {
     "data": {
      "image/png": "[encoded data removed]",
      "text/plain": [
       "<Figure size 720x576 with 2 Axes>"
      ]
     },
     "metadata": {
      "needs_background": "light"
     },
     "output_type": "display_data"
    }
   ],
   "source": [
    "plt.figure(figsize=(10,8))\n",
    "sns.heatmap(data1.corr(),annot = True)"
   ]
  },
  {
   "cell_type": "code",
   "execution_count": 140,
   "id": "dd057e58-5ca9-4c22-99c2-19e49494cea5",
   "metadata": {},
   "outputs": [
    {
     "name": "stderr",
     "output_type": "stream",
     "text": [
      "C:\\Users\\Shridhar\\AppData\\Local\\Programs\\Python\\Python39\\lib\\site-packages\\scipy\\stats\\stats.py:4812: RuntimeWarning: overflow encountered in longlong_scalars\n",
      "  (2 * xtie * ytie) / m + x0 * y0 / (9 * m * (size - 2)))\n"
     ]
    },
    {
     "data": {
      "text/plain": [
       "<AxesSubplot:>"
      ]
     },
     "execution_count": 140,
     "metadata": {},
     "output_type": "execute_result"
    },
    {
     "data": {
      "image/png": "[encoded data removed]",
      "text/plain": [
       "<Figure size 720x576 with 2 Axes>"
      ]
     },
     "metadata": {
      "needs_background": "light"
     },
     "output_type": "display_data"
    }
   ],
   "source": [
    "plt.figure(figsize=(10,8))\n",
    "sns.heatmap(data1.corr(method='kendall'),annot = True)"
   ]
  },
  {
   "cell_type": "code",
   "execution_count": 141,
   "id": "5c0f14ac-a724-4f51-ac58-f73b8cfac390",
   "metadata": {},
   "outputs": [],
   "source": [
    "# infomation gain"
   ]
  },
  {
   "cell_type": "code",
   "execution_count": 142,
   "id": "8046e4c4-7d94-4e29-b0c3-21e823b1c971",
   "metadata": {},
   "outputs": [],
   "source": [
    "from sklearn.feature_selection import mutual_info_classif"
   ]
  },
  {
   "cell_type": "code",
   "execution_count": 143,
   "id": "e4e5aca8-18d4-4977-8336-404f6211bc51",
   "metadata": {},
   "outputs": [],
   "source": [
    "feat = mutual_info_classif(X,y)"
   ]
  },
  {
   "cell_type": "code",
   "execution_count": 144,
   "id": "e46d08f9-e4cb-4fe9-8ead-c34cdb9e67c5",
   "metadata": {},
   "outputs": [
    {
     "data": {
      "text/plain": [
       "array([1.42673121e-02, 6.95899886e-05, 2.29576021e-03, 1.35271257e-02,\n",
       "       2.45785173e-03, 1.39738675e-02, 0.00000000e+00, 4.87629909e-01,\n",
       "       2.89064563e-01, 2.03816386e-01, 2.16033553e-02, 1.58802027e-01])"
      ]
     },
     "execution_count": 144,
     "metadata": {},
     "output_type": "execute_result"
    }
   ],
   "source": [
    "feat"
   ]
  },
  {
   "cell_type": "code",
   "execution_count": 145,
   "id": "f834f2d8-e681-432f-b5ca-8e2f18cfde4b",
   "metadata": {},
   "outputs": [
    {
     "data": {
      "text/plain": [
       "0     0.014267\n",
       "1     0.000070\n",
       "2     0.002296\n",
       "3     0.013527\n",
       "4     0.002458\n",
       "5     0.013974\n",
       "6     0.000000\n",
       "7     0.487630\n",
       "8     0.289065\n",
       "9     0.203816\n",
       "10    0.021603\n",
       "11    0.158802\n",
       "dtype: float64"
      ]
     },
     "execution_count": 145,
     "metadata": {},
     "output_type": "execute_result"
    }
   ],
   "source": [
    "feat_se = pd.Series(feat)\n",
    "feat_se"
   ]
  },
  {
   "cell_type": "code",
   "execution_count": 146,
   "id": "4c4887a4-cbd1-4413-940c-508489f83fa8",
   "metadata": {},
   "outputs": [],
   "source": [
    "feat_se.index = X.columns"
   ]
  },
  {
   "cell_type": "code",
   "execution_count": 152,
   "id": "e233fbb5-e00b-485c-8557-41273d1b75e6",
   "metadata": {},
   "outputs": [
    {
     "data": {
      "text/plain": [
       "<AxesSubplot:>"
      ]
     },
     "execution_count": 152,
     "metadata": {},
     "output_type": "execute_result"
    },
    {
     "data": {
      "image/png": "[encoded data removed]",
      "text/plain": [
       "<Figure size 432x288 with 1 Axes>"
      ]
     },
     "metadata": {
      "needs_background": "light"
     },
     "output_type": "display_data"
    }
   ],
   "source": [
    "feat_se.sort_values(ascending=False).plot(kind='bar')"
   ]
  },
  {
   "cell_type": "code",
   "execution_count": null,
   "id": "3058f57a-ec5c-45cc-9a87-c591ecd3e135",
   "metadata": {},
   "outputs": [],
   "source": [
    "X1 = data1['ApplicantIncome','CoapplicantIncome','LoanAmount','Credit_History']"
   ]
  },
  {
   "cell_type": "code",
   "execution_count": 153,
   "id": "e27dc5cb-c090-4f7c-81dd-661c5ae65754",
   "metadata": {},
   "outputs": [],
   "source": [
    "#  forward selection "
   ]
  },
  {
   "cell_type": "code",
   "execution_count": 156,
   "id": "76db360d-4d02-44d5-af3f-27b0ec0b6b7e",
   "metadata": {},
   "outputs": [],
   "source": [
    "from sklearn.feature_selection import SequentialFeatureSelector"
   ]
  },
  {
   "cell_type": "code",
   "execution_count": 158,
   "id": "03f0c9a4-b176-4d27-8232-f06c58569641",
   "metadata": {},
   "outputs": [],
   "source": [
    "sf = SequentialFeatureSelector(logreg, n_features_to_select = 7, direction = 'forward',cv=5)"
   ]
  },
  {
   "cell_type": "code",
   "execution_count": 162,
   "id": "32336dec-c58e-4ff3-b27e-edc1fe1544d1",
   "metadata": {},
   "outputs": [
    {
     "name": "stdout",
     "output_type": "stream",
     "text": [
      "Wall time: 0 ns\n"
     ]
    },
    {
     "data": {
      "text/plain": [
       "SequentialFeatureSelector(estimator=LogisticRegression(),\n",
       "                          n_features_to_select=5)"
      ]
     },
     "execution_count": 162,
     "metadata": {},
     "output_type": "execute_result"
    }
   ],
   "source": [
    "%time sf.fit(X,y)"
   ]
  },
  {
   "cell_type": "code",
   "execution_count": 163,
   "id": "1b2580c5-177d-428d-b11a-db244b07b610",
   "metadata": {},
   "outputs": [
    {
     "data": {
      "text/plain": [
       "array([ True,  True,  True, False, False, False, False, False,  True,\n",
       "       False, False,  True])"
      ]
     },
     "execution_count": 163,
     "metadata": {},
     "output_type": "execute_result"
    }
   ],
   "source": [
    "sf.support_"
   ]
  },
  {
   "cell_type": "code",
   "execution_count": 161,
   "id": "2d97fb76-7dff-47ff-b86c-6c92e6d7682f",
   "metadata": {},
   "outputs": [
    {
     "data": {
      "text/plain": [
       "Index(['Property_Area_Semiurban', 'Property_Area_Urban', 'Gender', 'Married',\n",
       "       'Dependents', 'Education', 'Self_Employed', 'ApplicantIncome',\n",
       "       'CoapplicantIncome', 'LoanAmount', 'Loan_Amount_Term', 'Credit_History',\n",
       "       'Loan_Status'],\n",
       "      dtype='object')"
      ]
     },
     "execution_count": 161,
     "metadata": {},
     "output_type": "execute_result"
    }
   ],
   "source": [
    "data1.columns"
   ]
  },
  {
   "cell_type": "code",
   "execution_count": 164,
   "id": "fe0c5f31-b090-447a-958b-6ba38754f686",
   "metadata": {},
   "outputs": [
    {
     "name": "stdout",
     "output_type": "stream",
     "text": [
      "Wall time: 50.4 s\n"
     ]
    },
    {
     "data": {
      "text/plain": [
       "array([False, False,  True,  True,  True,  True,  True,  True,  True,\n",
       "        True,  True,  True])"
      ]
     },
     "execution_count": 164,
     "metadata": {},
     "output_type": "execute_result"
    }
   ],
   "source": [
    "sf = SequentialFeatureSelector(logreg, n_features_to_select = 10, direction = 'backward',cv=5)\n",
    "%time sf.fit(X,y)\n",
    "sf.support_"
   ]
  },
  {
   "cell_type": "code",
   "execution_count": 165,
   "id": "8b65940f-40c9-495f-b5fb-7c46141132f3",
   "metadata": {},
   "outputs": [],
   "source": [
    "# Model Training"
   ]
  },
  {
   "cell_type": "code",
   "execution_count": 167,
   "id": "92a827c0-1a1f-494b-9640-c8c80c39e0a5",
   "metadata": {},
   "outputs": [
    {
     "data": {
      "text/plain": [
       "0.8426527958387516"
      ]
     },
     "execution_count": 167,
     "metadata": {},
     "output_type": "execute_result"
    }
   ],
   "source": [
    "# 1. Logistic Regression \n",
    "## balance data \n",
    "logreg = LogisticRegression()\n",
    "model = logreg.fit(X_train_smote,y_train_smote)\n",
    "y_pred_logreg = model.predict(X_test)\n",
    "f1_score_logreg = f1_score(y_test,y_pred_logreg)\n",
    "f1_score_logreg"
   ]
  },
  {
   "cell_type": "code",
   "execution_count": 213,
   "id": "a3bc5356-7187-451b-8069-4e7ca06d48d0",
   "metadata": {},
   "outputs": [
    {
     "data": {
      "text/plain": [
       "'Property_Area_Semiurban'"
      ]
     },
     "execution_count": 213,
     "metadata": {},
     "output_type": "execute_result"
    }
   ],
   "source": [
    "columns = X_train_smote.columns\n",
    "columns[]"
   ]
  },
  {
   "cell_type": "code",
   "execution_count": 206,
   "id": "eb4e87e3-72ee-4066-a6e6-5a3cfeeb0e88",
   "metadata": {},
   "outputs": [],
   "source": [
    "import json"
   ]
  },
  {
   "cell_type": "code",
   "execution_count": 214,
   "id": "ff60078a-9f75-42d3-851a-a75d2f7a4162",
   "metadata": {},
   "outputs": [],
   "source": [
    "with open('columns.json','w') as file:\n",
    "    json.dump(columns,file)"
   ]
  },
  {
   "cell_type": "code",
   "execution_count": 215,
   "id": "469248b9-dc3c-43bf-9009-3a5030f200f7",
   "metadata": {},
   "outputs": [],
   "source": [
    "import json\n",
    "columns = [col_name.lower() for col_name in X_train_smote.columns]\n",
    "data = {'Columns': columns}\n",
    "with open(\"x_columns.json\",\"w\") as f:\n",
    "    f.write(json.dumps(data))"
   ]
  },
  {
   "cell_type": "code",
   "execution_count": null,
   "id": "8caaa8c0-81b5-41d2-91e6-da33c0ee7c3b",
   "metadata": {},
   "outputs": [],
   "source": []
  },
  {
   "cell_type": "code",
   "execution_count": 168,
   "id": "257b1f06-7e6b-42f4-9980-3f095e547345",
   "metadata": {},
   "outputs": [],
   "source": [
    "# 2. Decision Tree "
   ]
  },
  {
   "cell_type": "code",
   "execution_count": 169,
   "id": "ea307b25-01da-456c-bfd2-1c829db47ba9",
   "metadata": {},
   "outputs": [],
   "source": [
    "from sklearn.tree import DecisionTreeClassifier"
   ]
  },
  {
   "cell_type": "code",
   "execution_count": 170,
   "id": "bc99a416-783c-4513-af5a-d0e6ea685d81",
   "metadata": {},
   "outputs": [
    {
     "data": {
      "text/plain": [
       "1.0"
      ]
     },
     "execution_count": 170,
     "metadata": {},
     "output_type": "execute_result"
    }
   ],
   "source": [
    "tree_clf = DecisionTreeClassifier()\n",
    "tree_model = tree_clf.fit(X_train_smote,y_train_smote)\n",
    "y_pred_tree_clf = tree_model.predict(X_test)\n",
    "f1_score_tree_clf = f1_score(y_test,y_pred_tree_clf)\n",
    "f1_score_tree_clf"
   ]
  },
  {
   "cell_type": "code",
   "execution_count": 171,
   "id": "03471611-bed1-4d11-82f9-8b290326db21",
   "metadata": {},
   "outputs": [],
   "source": [
    "from sklearn.model_selection import GridSearchCV, RandomizedSearchCV"
   ]
  },
  {
   "cell_type": "code",
   "execution_count": 187,
   "id": "4cd834f8-b2cd-445c-89f7-7630561c312e",
   "metadata": {},
   "outputs": [],
   "source": [
    "hyperparameter = {\n",
    "                    'min_samples_leaf':np.arange(2,5),\n",
    "                    'min_samples_split':np.arange(2,5),\n",
    "                    'max_depth':np.arange(5,20),\n",
    "                    'criterion': ['gini','entropy']\n",
    "                    }"
   ]
  },
  {
   "cell_type": "code",
   "execution_count": 188,
   "id": "bb51811a-2477-4879-9ab8-e68d94aae53e",
   "metadata": {},
   "outputs": [
    {
     "data": {
      "text/plain": [
       "GridSearchCV(cv=5, estimator=DecisionTreeClassifier(), n_jobs=-1,\n",
       "             param_grid={'criterion': ['gini', 'entropy'],\n",
       "                         'max_depth': array([ 5,  6,  7,  8,  9, 10, 11, 12, 13, 14, 15, 16, 17, 18, 19]),\n",
       "                         'min_samples_leaf': array([2, 3, 4]),\n",
       "                         'min_samples_split': array([2, 3, 4])})"
      ]
     },
     "execution_count": 188,
     "metadata": {},
     "output_type": "execute_result"
    }
   ],
   "source": [
    "grid_tree_clf = GridSearchCV(tree_clf,hyperparameter,cv=5,n_jobs=-1)\n",
    "grid_tree_clf.fit(X_train_smote,y_train_smote)\n"
   ]
  },
  {
   "cell_type": "code",
   "execution_count": 190,
   "id": "766d57be-ad89-43d3-907b-077ba8e7a9d0",
   "metadata": {},
   "outputs": [
    {
     "data": {
      "text/plain": [
       "{'criterion': 'entropy',\n",
       " 'max_depth': 19,\n",
       " 'min_samples_leaf': 2,\n",
       " 'min_samples_split': 2}"
      ]
     },
     "execution_count": 190,
     "metadata": {},
     "output_type": "execute_result"
    }
   ],
   "source": [
    "grid_tree_clf.best_params_"
   ]
  },
  {
   "cell_type": "code",
   "execution_count": 191,
   "id": "6bc408d6-4610-4e4e-bfb6-cec9f25650c4",
   "metadata": {},
   "outputs": [
    {
     "data": {
      "text/plain": [
       "1.0"
      ]
     },
     "execution_count": 191,
     "metadata": {},
     "output_type": "execute_result"
    }
   ],
   "source": [
    "tree_clf_hyper = DecisionTreeClassifier(criterion='entropy',max_depth=19,min_samples_leaf=2,min_samples_split=2)\n",
    "tree_model_hyper = tree_clf_hyper.fit(X_train_smote,y_train_smote)\n",
    "y_pred_tree_clf_hyper = tree_model_hyper.predict(X_test)\n",
    "f1_score_tree_clf_hyper = f1_score(y_test,y_pred_tree_clf_hyper)\n",
    "f1_score_tree_clf_hyper"
   ]
  },
  {
   "cell_type": "code",
   "execution_count": 192,
   "id": "2819f8e4-11e3-421d-ab89-2d14a9dd55ea",
   "metadata": {},
   "outputs": [],
   "source": [
    "from sklearn.ensemble import AdaBoostClassifier"
   ]
  },
  {
   "cell_type": "code",
   "execution_count": 193,
   "id": "e08fe10c-56f7-4d91-b74d-d703a958d45d",
   "metadata": {},
   "outputs": [],
   "source": [
    "adboost = AdaBoostClassifier()"
   ]
  },
  {
   "cell_type": "code",
   "execution_count": 194,
   "id": "19cff0d6-a947-4384-89fc-345b7a21686c",
   "metadata": {},
   "outputs": [],
   "source": [
    "adaboost_model = adboost.fit(X_train_smote,y_train_smote)\n"
   ]
  },
  {
   "cell_type": "code",
   "execution_count": 195,
   "id": "b02833b0-519c-466c-bbcc-0d9f7f054f75",
   "metadata": {},
   "outputs": [],
   "source": [
    "y_pred_ada = adaboost_model.predict(X_test)"
   ]
  },
  {
   "cell_type": "code",
   "execution_count": 196,
   "id": "33c33c72-660a-4de2-9af0-effb43035770",
   "metadata": {},
   "outputs": [
    {
     "data": {
      "text/plain": [
       "0.8788368336025848"
      ]
     },
     "execution_count": 196,
     "metadata": {},
     "output_type": "execute_result"
    }
   ],
   "source": [
    "f1_score_adaboost = f1_score(y_test,y_pred_ada)\n",
    "f1_score_adaboost"
   ]
  },
  {
   "cell_type": "code",
   "execution_count": 197,
   "id": "5f2737eb-598e-48f2-b3d2-d376a77d448b",
   "metadata": {},
   "outputs": [],
   "source": [
    "from xgboost import XGBClassifier,XGB"
   ]
  },
  {
   "cell_type": "code",
   "execution_count": 199,
   "id": "578176b5-6d21-48bf-9081-b24b6004de9f",
   "metadata": {},
   "outputs": [
    {
     "name": "stderr",
     "output_type": "stream",
     "text": [
      "C:\\Users\\Shridhar\\AppData\\Local\\Programs\\Python\\Python39\\lib\\site-packages\\xgboost\\sklearn.py:1224: UserWarning: The use of label encoder in XGBClassifier is deprecated and will be removed in a future release. To remove this warning, do the following: 1) Pass option use_label_encoder=False when constructing XGBClassifier object; and 2) Encode your labels (y) as integers starting with 0, i.e. 0, 1, 2, ..., [num_class - 1].\n",
      "  warnings.warn(label_encoder_deprecation_msg, UserWarning)\n"
     ]
    },
    {
     "name": "stdout",
     "output_type": "stream",
     "text": [
      "[11:54:14] WARNING: C:/Users/Administrator/workspace/xgboost-win64_release_1.5.1/src/learner.cc:1115: Starting in XGBoost 1.3.0, the default evaluation metric used with the objective 'binary:logistic' was changed from 'error' to 'logloss'. Explicitly set eval_metric if you'd like to restore the old behavior.\n",
      "Wall time: 868 ms\n"
     ]
    },
    {
     "data": {
      "text/plain": [
       "XGBClassifier(base_score=0.5, booster='gbtree', colsample_bylevel=1,\n",
       "              colsample_bynode=1, colsample_bytree=1, enable_categorical=False,\n",
       "              gamma=0, gpu_id=-1, importance_type=None,\n",
       "              interaction_constraints='', learning_rate=0.300000012,\n",
       "              max_delta_step=0, max_depth=6, min_child_weight=1, missing=nan,\n",
       "              monotone_constraints='()', n_estimators=10, n_jobs=4,\n",
       "              num_parallel_tree=1, predictor='auto', random_state=0,\n",
       "              reg_alpha=0, reg_lambda=1, scale_pos_weight=1, subsample=1,\n",
       "              tree_method='exact', validate_parameters=1, verbosity=None)"
      ]
     },
     "execution_count": 199,
     "metadata": {},
     "output_type": "execute_result"
    }
   ],
   "source": [
    "%%time\n",
    "xgb= XGBClassifier(n_estimators = 10)\n",
    "xgb.fit(X_train_smote,y_train_smote)"
   ]
  },
  {
   "cell_type": "code",
   "execution_count": 200,
   "id": "55b6ef62-3920-45a4-b8a4-d1812e9fbd61",
   "metadata": {},
   "outputs": [
    {
     "data": {
      "text/plain": [
       "0.8788368336025848"
      ]
     },
     "execution_count": 200,
     "metadata": {},
     "output_type": "execute_result"
    }
   ],
   "source": [
    "f1_score_xgb = f1_score(y_test,y_pred_ada)\n",
    "f1_score_xgb"
   ]
  },
  {
   "cell_type": "code",
   "execution_count": 201,
   "id": "57882286-d70d-4acc-8974-d2d46c951b34",
   "metadata": {},
   "outputs": [
    {
     "name": "stdout",
     "output_type": "stream",
     "text": [
      "ADABOOST: 0.8788368336025848\n",
      "Logistic : 0.8426527958387516\n",
      "DT: 1.0\n",
      "XGBOOST : 0.8788368336025848\n"
     ]
    }
   ],
   "source": [
    "print(f\"ADABOOST: {f1_score_adaboost}\")\n",
    "print(f\"Logistic : {f1_score_logreg}\")\n",
    "print(f\"DT: {f1_score_tree_clf}\")\n",
    "print(f\"XGBOOST : {f1_score_xgb}\")\n",
    "\n",
    "\n"
   ]
  },
  {
   "cell_type": "code",
   "execution_count": 202,
   "id": "440f6fc3-96ac-4f5e-9eef-f5fbd75e8f96",
   "metadata": {},
   "outputs": [],
   "source": [
    "import pickle "
   ]
  },
  {
   "cell_type": "code",
   "execution_count": 204,
   "id": "23ce69ad-aa5b-4fb3-8934-bb872621d5a8",
   "metadata": {},
   "outputs": [],
   "source": [
    "model = pickle.dump(logreg,open('model.pkl','wb'))"
   ]
  },
  {
   "cell_type": "code",
   "execution_count": null,
   "id": "6852ffca-ed6a-47e3-bd6d-e53a3a95c68a",
   "metadata": {},
   "outputs": [],
   "source": []
  }
 ],
 "metadata": {
  "kernelspec": {
   "display_name": "Python 3",
   "language": "python",
   "name": "python3"
  },
  "language_info": {
   "codemirror_mode": {
    "name": "ipython",
    "version": 3
   },
   "file_extension": ".py",
   "mimetype": "text/x-python",
   "name": "python",
   "nbconvert_exporter": "python",
   "pygments_lexer": "ipython3",
   "version": "3.8.8"
  }
 },
 "nbformat": 4,
 "nbformat_minor": 5
}
